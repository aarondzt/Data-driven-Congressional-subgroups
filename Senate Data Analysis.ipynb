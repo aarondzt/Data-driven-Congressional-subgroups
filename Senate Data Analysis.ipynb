{
 "cells": [
  {
   "cell_type": "markdown",
   "id": "endangered-columbia",
   "metadata": {},
   "source": [
    "### To-do\n",
    "* Display by party or by cluster\n",
    "\n",
    "### Data analysis"
   ]
  },
  {
   "cell_type": "code",
   "execution_count": 1,
   "id": "thrown-zambia",
   "metadata": {},
   "outputs": [],
   "source": [
    "# Import packages\n",
    "import pandas as pd\n",
    "from sklearn.decomposition import PCA\n",
    "from sklearn.preprocessing import StandardScaler\n",
    "import seaborn as sns\n",
    "from sklearn.cluster import KMeans\n",
    "from yellowbrick.cluster import KElbowVisualizer\n",
    "from warnings import simplefilter\n",
    "import plotly.express as px"
   ]
  },
  {
   "cell_type": "code",
   "execution_count": 63,
   "id": "usual-addiction",
   "metadata": {},
   "outputs": [],
   "source": [
    "# PCA + clustering\n",
    "def pca_clustering(year, clusters, color):\n",
    "    # year = year between 1941-2020\n",
    "    # clusters = # clusters\n",
    "    # color = 'Party' or 'Cluster'\n",
    "    file = 'data_senate/data/' + str(year) +'.csv'\n",
    "    data = pd.read_csv(file)\n",
    "    pca = PCA(n_components = 0.95)\n",
    "    pca.fit(data.iloc[:,2:].T)\n",
    "    pca_data = pd.DataFrame(pca.components_)\n",
    "    pca_data = pca_data.T\n",
    "    pca_data.shape\n",
    "    pca_data.insert(0, 'Party', data['Party'].values)\n",
    "    pca_data.insert(0, 'Senator', data['Unnamed: 0'])\n",
    "    data.insert(0, 'PC1', pca_data[0].values)\n",
    "    data.insert(0, 'PC2', pca_data[1].values)\n",
    "    data_small = data.iloc[:,:2]\n",
    "    data_small.insert(0, 'Party', data['Party'].values)\n",
    "    data_small.insert(0, 'Senator', data['Unnamed: 0'])\n",
    "    k_means = KMeans(n_clusters = clusters, random_state = 20210318)\n",
    "    k_means.fit(data_small[['PC1', 'PC2']])\n",
    "    cluster = k_means.predict(data_small[['PC1', 'PC2']])\n",
    "    data_small.insert(0, 'Cluster', cluster)\n",
    "    data_small['Cluster']= data_small['Cluster'].astype(str)\n",
    "    data_small = data_small.sort_values('Cluster')\n",
    "    fig = px.scatter(data_small, x = 'PC1', y = 'PC2', color = color, hover_name = 'Senator')\n",
    "    fig.show()\n",
    "    print(str(len(data)) + ' Senators in the ' + str(year) + ' dataset')\n",
    "    print('-' * 10)\n",
    "    print(round(pca.explained_variance_ratio_[0]*100, 2), '% variance explained by PC1')\n",
    "    print(round(pca.explained_variance_ratio_[1]*100, 2), '% variance explained by PC2')\n",
    "    print('-' * 10)\n",
    "    print('Most divisive issues (Senate):')\n",
    "    print(data.iloc[:, 4:].std().sort_values(ascending = False)[0:5])\n",
    "    print('-' * 10)\n",
    "    print('Least divisive issues (Senate):')\n",
    "    print(data.iloc[:, 4:].std().sort_values(ascending = True)[0:5])\n",
    "    print('-' * 10)\n",
    "    democrats = data[(data['Party'] == 'D') | (data['Party'] == 'I')]\n",
    "    print('Most divisive issues (Democratic Party):')\n",
    "    print(democrats.iloc[:,4:].std().sort_values(ascending = False)[0:5])\n",
    "    print('-' * 10)\n",
    "    print('Least divisive issues (Democratic Party):')\n",
    "    print(democrats.iloc[:,4:].std().sort_values(ascending = True)[0:5])\n",
    "    print('-' * 10)\n",
    "    republicans = data[data['Party'] == 'R']\n",
    "    print('Most divisive issues (Republican Party):')\n",
    "    print(republicans.iloc[:,4:].std().sort_values(ascending = False)[0:5])\n",
    "    print('-' * 10)\n",
    "    print('Least divisive issues (Republican Party):')\n",
    "    print(republicans.iloc[:,4:].std().sort_values(ascending = True)[0:5])"
   ]
  },
  {
   "cell_type": "code",
   "execution_count": 64,
   "id": "frozen-antibody",
   "metadata": {},
   "outputs": [
    {
     "data": {
      "application/vnd.plotly.v1+json": {
       "config": {
        "plotlyServerURL": "https://plot.ly"
       },
       "data": [
        {
         "hovertemplate": "<b>%{hovertext}</b><br><br>Party=D<br>PC1=%{x}<br>PC2=%{y}<extra></extra>",
         "hovertext": [
          "Sen. Kyrsten Sinema [D]",
          "Sen. Joe Manchin III [D]",
          "Sen. Doug Jones [D, 2018-2020]",
          "Sen. Martin Heinrich [D]",
          "Sen. Sherrod Brown [D]",
          "Sen. Debbie Stabenow [D]",
          "Sen. Robert “Bob” Menendez [D]",
          "Sen. Tammy Baldwin [D]",
          "Sen. Benjamin Cardin [D]",
          "Sen. Tom Udall [D, 2009-2020]",
          "Sen. Tina Smith [D, 2018-2026]",
          "Sen. Tammy Duckworth [D]",
          "Sen. Christopher Coons [D, 2010-2026]",
          "Sen. Jacky Rosen [D]",
          "Sen. Thomas Carper [D]",
          "Sen. Dianne Feinstein [D]",
          "Sen. Sheldon Whitehouse [D]",
          "Sen. Michael Bennet [D]",
          "Sen. Catherine Cortez Masto [D]",
          "Sen. Jeanne Shaheen [D, 2009-2026]",
          "Sen. John “Jack” Reed [D, 1997-2026]",
          "Sen. Gary Peters [D, 2015-2026]",
          "Sen. Richard Durbin [D, 1997-2026]",
          "Sen. Mark Warner [D, 2009-2026]",
          "Sen. Patrick Leahy [D]",
          "Sen. Jon Tester [D]",
          "Sen. Margaret “Maggie” Hassan [D]",
          "Sen. Robert “Bob” Casey Jr. [D]",
          "Sen. Christopher Murphy [D]",
          "Sen. Timothy “Tim” Kaine [D]",
          "Sen. Maria Cantwell [D]",
          "Sen. Kirsten Gillibrand [D]",
          "Sen. Patty Murray [D]",
          "Sen. Charles “Chuck” Schumer [D]",
          "Sen. Chris Van Hollen [D]",
          "Sen. Jeff Merkley [D, 2009-2026]",
          "Sen. Amy Klobuchar [D]",
          "Sen. Ron Wyden [D]",
          "Sen. Richard Blumenthal [D]",
          "Sen. Cory Booker [D, 2013-2026]",
          "Sen. Brian Schatz [D]",
          "Sen. Mazie Hirono [D]",
          "Sen. Edward “Ed” Markey [D, 2013-2026]",
          "Sen. Elizabeth Warren [D]",
          "Sen. Kamala Harris [D, 2017-2021]"
         ],
         "legendgroup": "D",
         "marker": {
          "color": "#636efa",
          "symbol": "circle"
         },
         "mode": "markers",
         "name": "D",
         "orientation": "v",
         "showlegend": true,
         "type": "scatter",
         "x": [
          0.09110369088581544,
          0.09295301834500312,
          0.09738762902820244,
          0.13786143362863643,
          0.135720705015972,
          0.1353548120807372,
          0.13829636071142234,
          0.1472689525930704,
          0.14170228736046755,
          0.141694271856633,
          0.145667512598068,
          0.1419085283178064,
          0.14332070510465394,
          0.14299366428125007,
          0.13752323993451274,
          0.14045436848526566,
          0.12796042999825172,
          0.14300547465099,
          0.14507580279499985,
          0.13638941036372199,
          0.14355446143729103,
          0.14236511958686135,
          0.14291259623843866,
          0.13437224089317326,
          0.13951024828303446,
          0.12478228865176849,
          0.13430130782538746,
          0.1450942426343604,
          0.1324018594022856,
          0.1399088113805453,
          0.13779417923391646,
          0.12497939327982657,
          0.12667216775884976,
          0.13058957098012142,
          0.13448307987456543,
          0.12534126293154826,
          0.12170341239769979,
          0.1213290788695595,
          0.1267704783792875,
          0.12070715484558683,
          0.1250640366759442,
          0.13071404911569842,
          0.09029877945443077,
          0.09440336640491194,
          0.06470179067315991
         ],
         "xaxis": "x",
         "y": [
          -0.11406010892537571,
          -0.10234196736176894,
          -0.1098320236365006,
          -0.06539546319558602,
          -0.06200013348464433,
          -0.056758138442225714,
          -0.05459166609554908,
          -0.07682225250227201,
          -0.07770406573851854,
          -0.05040352167539036,
          -0.06768896551322134,
          -0.0893452444096765,
          -0.08973708453174523,
          -0.0975720999251592,
          -0.12149787460648392,
          -0.10938807836468525,
          -0.08914130044939049,
          -0.08419741068083905,
          -0.09964999675030918,
          -0.11905693923454566,
          -0.1003995101960259,
          -0.11823310110642199,
          -0.08972208211304412,
          -0.11925562082649294,
          -0.08675931617224233,
          -0.10430452934954232,
          -0.12481913285243937,
          -0.08621097722392043,
          -0.09444869432410567,
          -0.11378113994154242,
          -0.021796286125438376,
          0.027559166559849867,
          -0.021864257584833978,
          -0.004400833563933995,
          -0.014161928347327813,
          0.014528839438583805,
          -0.004116154415649897,
          0.02918672182865686,
          -0.00015265716169107982,
          0.0247064548351087,
          -0.019137954668383996,
          -0.00907992615554081,
          0.0553996835592573,
          0.05068874380358729,
          0.019298793796963407
         ],
         "yaxis": "y"
        },
        {
         "hovertemplate": "<b>%{hovertext}</b><br><br>Party=R<br>PC1=%{x}<br>PC2=%{y}<extra></extra>",
         "hovertext": [
          "Sen. Joshua “Josh” Hawley [R]",
          "Sen. Steve Daines [R, 2015-2026]",
          "Sen. Marco Rubio [R]",
          "Sen. Todd Young [R]",
          "Sen. Dan Sullivan [R, 2015-2026]",
          "Sen. Richard Burr [R]",
          "Sen. Joni Ernst [R, 2015-2026]",
          "Sen. Cory Gardner [R, 2015-2020]",
          "Sen. Lindsey Graham [R, 2003-2026]",
          "Sen. John Kennedy [R]",
          "Sen. Ted Cruz [R]",
          "Sen. David Perdue [R, 2015-2020]",
          "Sen. Bill Cassidy [R, 2015-2026]",
          "Sen. Thom Tillis [R, 2015-2026]",
          "Sen. Shelley Capito [R, 2015-2026]",
          "Sen. Jerry Moran [R]",
          "Sen. Mike Braun [R]",
          "Sen. Kelly Loeffler [R, 2020-2021]",
          "Sen. Michael Enzi [R, 1997-2020]",
          "Sen. James Risch [R, 2009-2026]",
          "Sen. Pat Roberts [R, 1997-2020]",
          "Sen. Charles “Chuck” Grassley [R]",
          "Sen. Marsha Blackburn [R]",
          "Sen. Ron Johnson [R]",
          "Sen. Rick Scott [R]",
          "Sen. Roy Blunt [R]",
          "Sen. Tim Scott [R]",
          "Sen. Richard Shelby [R]",
          "Sen. Deb Fischer [R]",
          "Sen. Michael “Mike” Crapo [R]",
          "Sen. Mitch McConnell [R, 1985-2026]",
          "Sen. Mitt Romney [R]",
          "Sen. Benjamin “Ben” Sasse [R, 2015-2026]",
          "Sen. Mike Rounds [R, 2015-2026]",
          "Sen. Roger Wicker [R]",
          "Sen. John Thune [R]",
          "Sen. John Boozman [R]",
          "Sen. James Lankford [R]",
          "Sen. Tom Cotton [R, 2015-2026]",
          "Sen. John Cornyn [R, 2002-2026]",
          "Sen. James “Jim” Inhofe [R, 1994-2026]",
          "Sen. Cindy Hyde-Smith [R, 2018-2026]",
          "Sen. John Barrasso [R]",
          "Sen. Robert “Rob” Portman [R]",
          "Sen. John Hoeven [R]",
          "Sen. Patrick “Pat” Toomey [R]",
          "Sen. Kevin Cramer [R]",
          "Sen. Mike Lee [R]",
          "Sen. Susan Collins [R, 1997-2026]",
          "Sen. Rand Paul [R]",
          "Sen. Lamar Alexander [R, 2003-2020]",
          "Sen. Lisa Murkowski [R]"
         ],
         "legendgroup": "R",
         "marker": {
          "color": "#EF553B",
          "symbol": "circle"
         },
         "mode": "markers",
         "name": "R",
         "orientation": "v",
         "showlegend": true,
         "type": "scatter",
         "x": [
          -0.07728542270369933,
          -0.05546109337013177,
          -0.05608257610037694,
          -0.04757043027512556,
          -0.054492111130391374,
          -0.05701325544172801,
          -0.05317742108552693,
          -0.049195695032151536,
          -0.05258661058838246,
          -0.08734848479450365,
          -0.08145283629486061,
          -0.05281626185821529,
          -0.05805916892426721,
          -0.0559900843861336,
          -0.05608360164298774,
          -0.05955783843470852,
          -0.08053390311928534,
          -0.050616042362983345,
          -0.07244685854864714,
          -0.0693885446812513,
          -0.05886342648601642,
          -0.05237739102235533,
          -0.07960331130754046,
          -0.07916251596191627,
          -0.06839013241144695,
          -0.05401380453428087,
          -0.06649432865208926,
          -0.07022056487012994,
          -0.0639953128762988,
          -0.0698326129773648,
          -0.05346912136544381,
          -0.06385751663109335,
          -0.07856434281777401,
          -0.06712745436781858,
          -0.05748514414020966,
          -0.06661707780120277,
          -0.0637646362828431,
          -0.0793638712999943,
          -0.06797505680816202,
          -0.055878772930175694,
          -0.07187758206088836,
          -0.0642901406983943,
          -0.07630106426363269,
          -0.05097497352463067,
          -0.06028646314748453,
          -0.07825152666872806,
          -0.06155658343020406,
          -0.0818659679776297,
          -0.006269285493882462,
          -0.06231889557362875,
          -0.033830146127582644,
          -0.025269236210874485
         ],
         "xaxis": "x",
         "y": [
          -0.10669258749538757,
          -0.11086732380175437,
          -0.11458637745934185,
          -0.10000315806309629,
          -0.10392793930566464,
          -0.1035456620226271,
          -0.11159382564395576,
          -0.11284096884474774,
          -0.10459076659737451,
          -0.10284778182976904,
          -0.09193415799131763,
          -0.11636096391775674,
          -0.10351551767149986,
          -0.11673227770741373,
          -0.10858275973325414,
          -0.08856232666288884,
          -0.10339279983287182,
          -0.11598404962232825,
          -0.1322247608924035,
          -0.13012302645687956,
          -0.12637502635702436,
          -0.13002369409737352,
          -0.1211257057493629,
          -0.1254043927573502,
          -0.11967790526803775,
          -0.12217361795828732,
          -0.1313462636294807,
          -0.13255755551191142,
          -0.13599007604537713,
          -0.13402605766916412,
          -0.1400460040099064,
          -0.12670040575957883,
          -0.12706035590530884,
          -0.12177823871595644,
          -0.12637720707448297,
          -0.12923423575205023,
          -0.1349833786800054,
          -0.13840098614162064,
          -0.12405625526795878,
          -0.12241525632215752,
          -0.13203220111726463,
          -0.13220115881238823,
          -0.13912578977600584,
          -0.1263606942637847,
          -0.12842111316860721,
          -0.12068423815090334,
          -0.1197040854703651,
          -0.05015504959347906,
          -0.08621602364089577,
          -0.03120526615225626,
          -0.07299923498072412,
          -0.06940646457024341
         ],
         "yaxis": "y"
        },
        {
         "hovertemplate": "<b>%{hovertext}</b><br><br>Party=I<br>PC1=%{x}<br>PC2=%{y}<extra></extra>",
         "hovertext": [
          "Sen. Angus King Jr. [I]",
          "Sen. Bernard “Bernie” Sanders [I]"
         ],
         "legendgroup": "I",
         "marker": {
          "color": "#00cc96",
          "symbol": "circle"
         },
         "mode": "markers",
         "name": "I",
         "orientation": "v",
         "showlegend": true,
         "type": "scatter",
         "x": [
          0.13448522974570076,
          0.07176161846249371
         ],
         "xaxis": "x",
         "y": [
          -0.10870584100536217,
          0.0319312347827661
         ],
         "yaxis": "y"
        }
       ],
       "layout": {
        "legend": {
         "title": {
          "text": "Party"
         },
         "tracegroupgap": 0
        },
        "margin": {
         "t": 60
        },
        "template": {
         "data": {
          "bar": [
           {
            "error_x": {
             "color": "#2a3f5f"
            },
            "error_y": {
             "color": "#2a3f5f"
            },
            "marker": {
             "line": {
              "color": "#E5ECF6",
              "width": 0.5
             }
            },
            "type": "bar"
           }
          ],
          "barpolar": [
           {
            "marker": {
             "line": {
              "color": "#E5ECF6",
              "width": 0.5
             }
            },
            "type": "barpolar"
           }
          ],
          "carpet": [
           {
            "aaxis": {
             "endlinecolor": "#2a3f5f",
             "gridcolor": "white",
             "linecolor": "white",
             "minorgridcolor": "white",
             "startlinecolor": "#2a3f5f"
            },
            "baxis": {
             "endlinecolor": "#2a3f5f",
             "gridcolor": "white",
             "linecolor": "white",
             "minorgridcolor": "white",
             "startlinecolor": "#2a3f5f"
            },
            "type": "carpet"
           }
          ],
          "choropleth": [
           {
            "colorbar": {
             "outlinewidth": 0,
             "ticks": ""
            },
            "type": "choropleth"
           }
          ],
          "contour": [
           {
            "colorbar": {
             "outlinewidth": 0,
             "ticks": ""
            },
            "colorscale": [
             [
              0,
              "#0d0887"
             ],
             [
              0.1111111111111111,
              "#46039f"
             ],
             [
              0.2222222222222222,
              "#7201a8"
             ],
             [
              0.3333333333333333,
              "#9c179e"
             ],
             [
              0.4444444444444444,
              "#bd3786"
             ],
             [
              0.5555555555555556,
              "#d8576b"
             ],
             [
              0.6666666666666666,
              "#ed7953"
             ],
             [
              0.7777777777777778,
              "#fb9f3a"
             ],
             [
              0.8888888888888888,
              "#fdca26"
             ],
             [
              1,
              "#f0f921"
             ]
            ],
            "type": "contour"
           }
          ],
          "contourcarpet": [
           {
            "colorbar": {
             "outlinewidth": 0,
             "ticks": ""
            },
            "type": "contourcarpet"
           }
          ],
          "heatmap": [
           {
            "colorbar": {
             "outlinewidth": 0,
             "ticks": ""
            },
            "colorscale": [
             [
              0,
              "#0d0887"
             ],
             [
              0.1111111111111111,
              "#46039f"
             ],
             [
              0.2222222222222222,
              "#7201a8"
             ],
             [
              0.3333333333333333,
              "#9c179e"
             ],
             [
              0.4444444444444444,
              "#bd3786"
             ],
             [
              0.5555555555555556,
              "#d8576b"
             ],
             [
              0.6666666666666666,
              "#ed7953"
             ],
             [
              0.7777777777777778,
              "#fb9f3a"
             ],
             [
              0.8888888888888888,
              "#fdca26"
             ],
             [
              1,
              "#f0f921"
             ]
            ],
            "type": "heatmap"
           }
          ],
          "heatmapgl": [
           {
            "colorbar": {
             "outlinewidth": 0,
             "ticks": ""
            },
            "colorscale": [
             [
              0,
              "#0d0887"
             ],
             [
              0.1111111111111111,
              "#46039f"
             ],
             [
              0.2222222222222222,
              "#7201a8"
             ],
             [
              0.3333333333333333,
              "#9c179e"
             ],
             [
              0.4444444444444444,
              "#bd3786"
             ],
             [
              0.5555555555555556,
              "#d8576b"
             ],
             [
              0.6666666666666666,
              "#ed7953"
             ],
             [
              0.7777777777777778,
              "#fb9f3a"
             ],
             [
              0.8888888888888888,
              "#fdca26"
             ],
             [
              1,
              "#f0f921"
             ]
            ],
            "type": "heatmapgl"
           }
          ],
          "histogram": [
           {
            "marker": {
             "colorbar": {
              "outlinewidth": 0,
              "ticks": ""
             }
            },
            "type": "histogram"
           }
          ],
          "histogram2d": [
           {
            "colorbar": {
             "outlinewidth": 0,
             "ticks": ""
            },
            "colorscale": [
             [
              0,
              "#0d0887"
             ],
             [
              0.1111111111111111,
              "#46039f"
             ],
             [
              0.2222222222222222,
              "#7201a8"
             ],
             [
              0.3333333333333333,
              "#9c179e"
             ],
             [
              0.4444444444444444,
              "#bd3786"
             ],
             [
              0.5555555555555556,
              "#d8576b"
             ],
             [
              0.6666666666666666,
              "#ed7953"
             ],
             [
              0.7777777777777778,
              "#fb9f3a"
             ],
             [
              0.8888888888888888,
              "#fdca26"
             ],
             [
              1,
              "#f0f921"
             ]
            ],
            "type": "histogram2d"
           }
          ],
          "histogram2dcontour": [
           {
            "colorbar": {
             "outlinewidth": 0,
             "ticks": ""
            },
            "colorscale": [
             [
              0,
              "#0d0887"
             ],
             [
              0.1111111111111111,
              "#46039f"
             ],
             [
              0.2222222222222222,
              "#7201a8"
             ],
             [
              0.3333333333333333,
              "#9c179e"
             ],
             [
              0.4444444444444444,
              "#bd3786"
             ],
             [
              0.5555555555555556,
              "#d8576b"
             ],
             [
              0.6666666666666666,
              "#ed7953"
             ],
             [
              0.7777777777777778,
              "#fb9f3a"
             ],
             [
              0.8888888888888888,
              "#fdca26"
             ],
             [
              1,
              "#f0f921"
             ]
            ],
            "type": "histogram2dcontour"
           }
          ],
          "mesh3d": [
           {
            "colorbar": {
             "outlinewidth": 0,
             "ticks": ""
            },
            "type": "mesh3d"
           }
          ],
          "parcoords": [
           {
            "line": {
             "colorbar": {
              "outlinewidth": 0,
              "ticks": ""
             }
            },
            "type": "parcoords"
           }
          ],
          "pie": [
           {
            "automargin": true,
            "type": "pie"
           }
          ],
          "scatter": [
           {
            "marker": {
             "colorbar": {
              "outlinewidth": 0,
              "ticks": ""
             }
            },
            "type": "scatter"
           }
          ],
          "scatter3d": [
           {
            "line": {
             "colorbar": {
              "outlinewidth": 0,
              "ticks": ""
             }
            },
            "marker": {
             "colorbar": {
              "outlinewidth": 0,
              "ticks": ""
             }
            },
            "type": "scatter3d"
           }
          ],
          "scattercarpet": [
           {
            "marker": {
             "colorbar": {
              "outlinewidth": 0,
              "ticks": ""
             }
            },
            "type": "scattercarpet"
           }
          ],
          "scattergeo": [
           {
            "marker": {
             "colorbar": {
              "outlinewidth": 0,
              "ticks": ""
             }
            },
            "type": "scattergeo"
           }
          ],
          "scattergl": [
           {
            "marker": {
             "colorbar": {
              "outlinewidth": 0,
              "ticks": ""
             }
            },
            "type": "scattergl"
           }
          ],
          "scattermapbox": [
           {
            "marker": {
             "colorbar": {
              "outlinewidth": 0,
              "ticks": ""
             }
            },
            "type": "scattermapbox"
           }
          ],
          "scatterpolar": [
           {
            "marker": {
             "colorbar": {
              "outlinewidth": 0,
              "ticks": ""
             }
            },
            "type": "scatterpolar"
           }
          ],
          "scatterpolargl": [
           {
            "marker": {
             "colorbar": {
              "outlinewidth": 0,
              "ticks": ""
             }
            },
            "type": "scatterpolargl"
           }
          ],
          "scatterternary": [
           {
            "marker": {
             "colorbar": {
              "outlinewidth": 0,
              "ticks": ""
             }
            },
            "type": "scatterternary"
           }
          ],
          "surface": [
           {
            "colorbar": {
             "outlinewidth": 0,
             "ticks": ""
            },
            "colorscale": [
             [
              0,
              "#0d0887"
             ],
             [
              0.1111111111111111,
              "#46039f"
             ],
             [
              0.2222222222222222,
              "#7201a8"
             ],
             [
              0.3333333333333333,
              "#9c179e"
             ],
             [
              0.4444444444444444,
              "#bd3786"
             ],
             [
              0.5555555555555556,
              "#d8576b"
             ],
             [
              0.6666666666666666,
              "#ed7953"
             ],
             [
              0.7777777777777778,
              "#fb9f3a"
             ],
             [
              0.8888888888888888,
              "#fdca26"
             ],
             [
              1,
              "#f0f921"
             ]
            ],
            "type": "surface"
           }
          ],
          "table": [
           {
            "cells": {
             "fill": {
              "color": "#EBF0F8"
             },
             "line": {
              "color": "white"
             }
            },
            "header": {
             "fill": {
              "color": "#C8D4E3"
             },
             "line": {
              "color": "white"
             }
            },
            "type": "table"
           }
          ]
         },
         "layout": {
          "annotationdefaults": {
           "arrowcolor": "#2a3f5f",
           "arrowhead": 0,
           "arrowwidth": 1
          },
          "autotypenumbers": "strict",
          "coloraxis": {
           "colorbar": {
            "outlinewidth": 0,
            "ticks": ""
           }
          },
          "colorscale": {
           "diverging": [
            [
             0,
             "#8e0152"
            ],
            [
             0.1,
             "#c51b7d"
            ],
            [
             0.2,
             "#de77ae"
            ],
            [
             0.3,
             "#f1b6da"
            ],
            [
             0.4,
             "#fde0ef"
            ],
            [
             0.5,
             "#f7f7f7"
            ],
            [
             0.6,
             "#e6f5d0"
            ],
            [
             0.7,
             "#b8e186"
            ],
            [
             0.8,
             "#7fbc41"
            ],
            [
             0.9,
             "#4d9221"
            ],
            [
             1,
             "#276419"
            ]
           ],
           "sequential": [
            [
             0,
             "#0d0887"
            ],
            [
             0.1111111111111111,
             "#46039f"
            ],
            [
             0.2222222222222222,
             "#7201a8"
            ],
            [
             0.3333333333333333,
             "#9c179e"
            ],
            [
             0.4444444444444444,
             "#bd3786"
            ],
            [
             0.5555555555555556,
             "#d8576b"
            ],
            [
             0.6666666666666666,
             "#ed7953"
            ],
            [
             0.7777777777777778,
             "#fb9f3a"
            ],
            [
             0.8888888888888888,
             "#fdca26"
            ],
            [
             1,
             "#f0f921"
            ]
           ],
           "sequentialminus": [
            [
             0,
             "#0d0887"
            ],
            [
             0.1111111111111111,
             "#46039f"
            ],
            [
             0.2222222222222222,
             "#7201a8"
            ],
            [
             0.3333333333333333,
             "#9c179e"
            ],
            [
             0.4444444444444444,
             "#bd3786"
            ],
            [
             0.5555555555555556,
             "#d8576b"
            ],
            [
             0.6666666666666666,
             "#ed7953"
            ],
            [
             0.7777777777777778,
             "#fb9f3a"
            ],
            [
             0.8888888888888888,
             "#fdca26"
            ],
            [
             1,
             "#f0f921"
            ]
           ]
          },
          "colorway": [
           "#636efa",
           "#EF553B",
           "#00cc96",
           "#ab63fa",
           "#FFA15A",
           "#19d3f3",
           "#FF6692",
           "#B6E880",
           "#FF97FF",
           "#FECB52"
          ],
          "font": {
           "color": "#2a3f5f"
          },
          "geo": {
           "bgcolor": "white",
           "lakecolor": "white",
           "landcolor": "#E5ECF6",
           "showlakes": true,
           "showland": true,
           "subunitcolor": "white"
          },
          "hoverlabel": {
           "align": "left"
          },
          "hovermode": "closest",
          "mapbox": {
           "style": "light"
          },
          "paper_bgcolor": "white",
          "plot_bgcolor": "#E5ECF6",
          "polar": {
           "angularaxis": {
            "gridcolor": "white",
            "linecolor": "white",
            "ticks": ""
           },
           "bgcolor": "#E5ECF6",
           "radialaxis": {
            "gridcolor": "white",
            "linecolor": "white",
            "ticks": ""
           }
          },
          "scene": {
           "xaxis": {
            "backgroundcolor": "#E5ECF6",
            "gridcolor": "white",
            "gridwidth": 2,
            "linecolor": "white",
            "showbackground": true,
            "ticks": "",
            "zerolinecolor": "white"
           },
           "yaxis": {
            "backgroundcolor": "#E5ECF6",
            "gridcolor": "white",
            "gridwidth": 2,
            "linecolor": "white",
            "showbackground": true,
            "ticks": "",
            "zerolinecolor": "white"
           },
           "zaxis": {
            "backgroundcolor": "#E5ECF6",
            "gridcolor": "white",
            "gridwidth": 2,
            "linecolor": "white",
            "showbackground": true,
            "ticks": "",
            "zerolinecolor": "white"
           }
          },
          "shapedefaults": {
           "line": {
            "color": "#2a3f5f"
           }
          },
          "ternary": {
           "aaxis": {
            "gridcolor": "white",
            "linecolor": "white",
            "ticks": ""
           },
           "baxis": {
            "gridcolor": "white",
            "linecolor": "white",
            "ticks": ""
           },
           "bgcolor": "#E5ECF6",
           "caxis": {
            "gridcolor": "white",
            "linecolor": "white",
            "ticks": ""
           }
          },
          "title": {
           "x": 0.05
          },
          "xaxis": {
           "automargin": true,
           "gridcolor": "white",
           "linecolor": "white",
           "ticks": "",
           "title": {
            "standoff": 15
           },
           "zerolinecolor": "white",
           "zerolinewidth": 2
          },
          "yaxis": {
           "automargin": true,
           "gridcolor": "white",
           "linecolor": "white",
           "ticks": "",
           "title": {
            "standoff": 15
           },
           "zerolinecolor": "white",
           "zerolinewidth": 2
          }
         }
        },
        "xaxis": {
         "anchor": "y",
         "domain": [
          0,
          1
         ],
         "title": {
          "text": "PC1"
         }
        },
        "yaxis": {
         "anchor": "x",
         "domain": [
          0,
          1
         ],
         "title": {
          "text": "PC2"
         }
        }
       }
      },
      "text/html": [
       "<div>                            <div id=\"f35da4fb-af92-46b2-b090-c53643692445\" class=\"plotly-graph-div\" style=\"height:525px; width:100%;\"></div>            <script type=\"text/javascript\">                require([\"plotly\"], function(Plotly) {                    window.PLOTLYENV=window.PLOTLYENV || {};                                    if (document.getElementById(\"f35da4fb-af92-46b2-b090-c53643692445\")) {                    Plotly.newPlot(                        \"f35da4fb-af92-46b2-b090-c53643692445\",                        [{\"hovertemplate\": \"<b>%{hovertext}</b><br><br>Party=D<br>PC1=%{x}<br>PC2=%{y}<extra></extra>\", \"hovertext\": [\"Sen. Kyrsten Sinema [D]\", \"Sen. Joe Manchin III [D]\", \"Sen. Doug Jones [D, 2018-2020]\", \"Sen. Martin Heinrich [D]\", \"Sen. Sherrod Brown [D]\", \"Sen. Debbie Stabenow [D]\", \"Sen. Robert \\u201cBob\\u201d Menendez [D]\", \"Sen. Tammy Baldwin [D]\", \"Sen. Benjamin Cardin [D]\", \"Sen. Tom Udall [D, 2009-2020]\", \"Sen. Tina Smith [D, 2018-2026]\", \"Sen. Tammy Duckworth [D]\", \"Sen. Christopher Coons [D, 2010-2026]\", \"Sen. Jacky Rosen [D]\", \"Sen. Thomas Carper [D]\", \"Sen. Dianne Feinstein [D]\", \"Sen. Sheldon Whitehouse [D]\", \"Sen. Michael Bennet [D]\", \"Sen. Catherine Cortez Masto [D]\", \"Sen. Jeanne Shaheen [D, 2009-2026]\", \"Sen. John \\u201cJack\\u201d Reed [D, 1997-2026]\", \"Sen. Gary Peters [D, 2015-2026]\", \"Sen. Richard Durbin [D, 1997-2026]\", \"Sen. Mark Warner [D, 2009-2026]\", \"Sen. Patrick Leahy [D]\", \"Sen. Jon Tester [D]\", \"Sen. Margaret \\u201cMaggie\\u201d Hassan [D]\", \"Sen. Robert \\u201cBob\\u201d Casey Jr. [D]\", \"Sen. Christopher Murphy [D]\", \"Sen. Timothy \\u201cTim\\u201d Kaine [D]\", \"Sen. Maria Cantwell [D]\", \"Sen. Kirsten Gillibrand [D]\", \"Sen. Patty Murray [D]\", \"Sen. Charles \\u201cChuck\\u201d Schumer [D]\", \"Sen. Chris Van Hollen [D]\", \"Sen. Jeff Merkley [D, 2009-2026]\", \"Sen. Amy Klobuchar [D]\", \"Sen. Ron Wyden [D]\", \"Sen. Richard Blumenthal [D]\", \"Sen. Cory Booker [D, 2013-2026]\", \"Sen. Brian Schatz [D]\", \"Sen. Mazie Hirono [D]\", \"Sen. Edward \\u201cEd\\u201d Markey [D, 2013-2026]\", \"Sen. Elizabeth Warren [D]\", \"Sen. Kamala Harris [D, 2017-2021]\"], \"legendgroup\": \"D\", \"marker\": {\"color\": \"#636efa\", \"symbol\": \"circle\"}, \"mode\": \"markers\", \"name\": \"D\", \"orientation\": \"v\", \"showlegend\": true, \"type\": \"scatter\", \"x\": [0.09110369088581544, 0.09295301834500312, 0.09738762902820244, 0.13786143362863643, 0.135720705015972, 0.1353548120807372, 0.13829636071142234, 0.1472689525930704, 0.14170228736046755, 0.141694271856633, 0.145667512598068, 0.1419085283178064, 0.14332070510465394, 0.14299366428125007, 0.13752323993451274, 0.14045436848526566, 0.12796042999825172, 0.14300547465099, 0.14507580279499985, 0.13638941036372199, 0.14355446143729103, 0.14236511958686135, 0.14291259623843866, 0.13437224089317326, 0.13951024828303446, 0.12478228865176849, 0.13430130782538746, 0.1450942426343604, 0.1324018594022856, 0.1399088113805453, 0.13779417923391646, 0.12497939327982657, 0.12667216775884976, 0.13058957098012142, 0.13448307987456543, 0.12534126293154826, 0.12170341239769979, 0.1213290788695595, 0.1267704783792875, 0.12070715484558683, 0.1250640366759442, 0.13071404911569842, 0.09029877945443077, 0.09440336640491194, 0.06470179067315991], \"xaxis\": \"x\", \"y\": [-0.11406010892537571, -0.10234196736176894, -0.1098320236365006, -0.06539546319558602, -0.06200013348464433, -0.056758138442225714, -0.05459166609554908, -0.07682225250227201, -0.07770406573851854, -0.05040352167539036, -0.06768896551322134, -0.0893452444096765, -0.08973708453174523, -0.0975720999251592, -0.12149787460648392, -0.10938807836468525, -0.08914130044939049, -0.08419741068083905, -0.09964999675030918, -0.11905693923454566, -0.1003995101960259, -0.11823310110642199, -0.08972208211304412, -0.11925562082649294, -0.08675931617224233, -0.10430452934954232, -0.12481913285243937, -0.08621097722392043, -0.09444869432410567, -0.11378113994154242, -0.021796286125438376, 0.027559166559849867, -0.021864257584833978, -0.004400833563933995, -0.014161928347327813, 0.014528839438583805, -0.004116154415649897, 0.02918672182865686, -0.00015265716169107982, 0.0247064548351087, -0.019137954668383996, -0.00907992615554081, 0.0553996835592573, 0.05068874380358729, 0.019298793796963407], \"yaxis\": \"y\"}, {\"hovertemplate\": \"<b>%{hovertext}</b><br><br>Party=R<br>PC1=%{x}<br>PC2=%{y}<extra></extra>\", \"hovertext\": [\"Sen. Joshua \\u201cJosh\\u201d Hawley [R]\", \"Sen. Steve Daines [R, 2015-2026]\", \"Sen. Marco Rubio [R]\", \"Sen. Todd Young [R]\", \"Sen. Dan Sullivan [R, 2015-2026]\", \"Sen. Richard Burr [R]\", \"Sen. Joni Ernst [R, 2015-2026]\", \"Sen. Cory Gardner [R, 2015-2020]\", \"Sen. Lindsey Graham [R, 2003-2026]\", \"Sen. John Kennedy [R]\", \"Sen. Ted Cruz [R]\", \"Sen. David Perdue [R, 2015-2020]\", \"Sen. Bill Cassidy [R, 2015-2026]\", \"Sen. Thom Tillis [R, 2015-2026]\", \"Sen. Shelley Capito [R, 2015-2026]\", \"Sen. Jerry Moran [R]\", \"Sen. Mike Braun [R]\", \"Sen. Kelly Loeffler [R, 2020-2021]\", \"Sen. Michael Enzi [R, 1997-2020]\", \"Sen. James Risch [R, 2009-2026]\", \"Sen. Pat Roberts [R, 1997-2020]\", \"Sen. Charles \\u201cChuck\\u201d Grassley [R]\", \"Sen. Marsha Blackburn [R]\", \"Sen. Ron Johnson [R]\", \"Sen. Rick Scott [R]\", \"Sen. Roy Blunt [R]\", \"Sen. Tim Scott [R]\", \"Sen. Richard Shelby [R]\", \"Sen. Deb Fischer [R]\", \"Sen. Michael \\u201cMike\\u201d Crapo [R]\", \"Sen. Mitch McConnell [R, 1985-2026]\", \"Sen. Mitt Romney [R]\", \"Sen. Benjamin \\u201cBen\\u201d Sasse [R, 2015-2026]\", \"Sen. Mike Rounds [R, 2015-2026]\", \"Sen. Roger Wicker [R]\", \"Sen. John Thune [R]\", \"Sen. John Boozman [R]\", \"Sen. James Lankford [R]\", \"Sen. Tom Cotton [R, 2015-2026]\", \"Sen. John Cornyn [R, 2002-2026]\", \"Sen. James \\u201cJim\\u201d Inhofe [R, 1994-2026]\", \"Sen. Cindy Hyde-Smith [R, 2018-2026]\", \"Sen. John Barrasso [R]\", \"Sen. Robert \\u201cRob\\u201d Portman [R]\", \"Sen. John Hoeven [R]\", \"Sen. Patrick \\u201cPat\\u201d Toomey [R]\", \"Sen. Kevin Cramer [R]\", \"Sen. Mike Lee [R]\", \"Sen. Susan Collins [R, 1997-2026]\", \"Sen. Rand Paul [R]\", \"Sen. Lamar Alexander [R, 2003-2020]\", \"Sen. Lisa Murkowski [R]\"], \"legendgroup\": \"R\", \"marker\": {\"color\": \"#EF553B\", \"symbol\": \"circle\"}, \"mode\": \"markers\", \"name\": \"R\", \"orientation\": \"v\", \"showlegend\": true, \"type\": \"scatter\", \"x\": [-0.07728542270369933, -0.05546109337013177, -0.05608257610037694, -0.04757043027512556, -0.054492111130391374, -0.05701325544172801, -0.05317742108552693, -0.049195695032151536, -0.05258661058838246, -0.08734848479450365, -0.08145283629486061, -0.05281626185821529, -0.05805916892426721, -0.0559900843861336, -0.05608360164298774, -0.05955783843470852, -0.08053390311928534, -0.050616042362983345, -0.07244685854864714, -0.0693885446812513, -0.05886342648601642, -0.05237739102235533, -0.07960331130754046, -0.07916251596191627, -0.06839013241144695, -0.05401380453428087, -0.06649432865208926, -0.07022056487012994, -0.0639953128762988, -0.0698326129773648, -0.05346912136544381, -0.06385751663109335, -0.07856434281777401, -0.06712745436781858, -0.05748514414020966, -0.06661707780120277, -0.0637646362828431, -0.0793638712999943, -0.06797505680816202, -0.055878772930175694, -0.07187758206088836, -0.0642901406983943, -0.07630106426363269, -0.05097497352463067, -0.06028646314748453, -0.07825152666872806, -0.06155658343020406, -0.0818659679776297, -0.006269285493882462, -0.06231889557362875, -0.033830146127582644, -0.025269236210874485], \"xaxis\": \"x\", \"y\": [-0.10669258749538757, -0.11086732380175437, -0.11458637745934185, -0.10000315806309629, -0.10392793930566464, -0.1035456620226271, -0.11159382564395576, -0.11284096884474774, -0.10459076659737451, -0.10284778182976904, -0.09193415799131763, -0.11636096391775674, -0.10351551767149986, -0.11673227770741373, -0.10858275973325414, -0.08856232666288884, -0.10339279983287182, -0.11598404962232825, -0.1322247608924035, -0.13012302645687956, -0.12637502635702436, -0.13002369409737352, -0.1211257057493629, -0.1254043927573502, -0.11967790526803775, -0.12217361795828732, -0.1313462636294807, -0.13255755551191142, -0.13599007604537713, -0.13402605766916412, -0.1400460040099064, -0.12670040575957883, -0.12706035590530884, -0.12177823871595644, -0.12637720707448297, -0.12923423575205023, -0.1349833786800054, -0.13840098614162064, -0.12405625526795878, -0.12241525632215752, -0.13203220111726463, -0.13220115881238823, -0.13912578977600584, -0.1263606942637847, -0.12842111316860721, -0.12068423815090334, -0.1197040854703651, -0.05015504959347906, -0.08621602364089577, -0.03120526615225626, -0.07299923498072412, -0.06940646457024341], \"yaxis\": \"y\"}, {\"hovertemplate\": \"<b>%{hovertext}</b><br><br>Party=I<br>PC1=%{x}<br>PC2=%{y}<extra></extra>\", \"hovertext\": [\"Sen. Angus King Jr. [I]\", \"Sen. Bernard \\u201cBernie\\u201d Sanders [I]\"], \"legendgroup\": \"I\", \"marker\": {\"color\": \"#00cc96\", \"symbol\": \"circle\"}, \"mode\": \"markers\", \"name\": \"I\", \"orientation\": \"v\", \"showlegend\": true, \"type\": \"scatter\", \"x\": [0.13448522974570076, 0.07176161846249371], \"xaxis\": \"x\", \"y\": [-0.10870584100536217, 0.0319312347827661], \"yaxis\": \"y\"}],                        {\"legend\": {\"title\": {\"text\": \"Party\"}, \"tracegroupgap\": 0}, \"margin\": {\"t\": 60}, \"template\": {\"data\": {\"bar\": [{\"error_x\": {\"color\": \"#2a3f5f\"}, \"error_y\": {\"color\": \"#2a3f5f\"}, \"marker\": {\"line\": {\"color\": \"#E5ECF6\", \"width\": 0.5}}, \"type\": \"bar\"}], \"barpolar\": [{\"marker\": {\"line\": {\"color\": \"#E5ECF6\", \"width\": 0.5}}, \"type\": \"barpolar\"}], \"carpet\": [{\"aaxis\": {\"endlinecolor\": \"#2a3f5f\", \"gridcolor\": \"white\", \"linecolor\": \"white\", \"minorgridcolor\": \"white\", \"startlinecolor\": \"#2a3f5f\"}, \"baxis\": {\"endlinecolor\": \"#2a3f5f\", \"gridcolor\": \"white\", \"linecolor\": \"white\", \"minorgridcolor\": \"white\", \"startlinecolor\": \"#2a3f5f\"}, \"type\": \"carpet\"}], \"choropleth\": [{\"colorbar\": {\"outlinewidth\": 0, \"ticks\": \"\"}, \"type\": \"choropleth\"}], \"contour\": [{\"colorbar\": {\"outlinewidth\": 0, \"ticks\": \"\"}, \"colorscale\": [[0.0, \"#0d0887\"], [0.1111111111111111, \"#46039f\"], [0.2222222222222222, \"#7201a8\"], [0.3333333333333333, \"#9c179e\"], [0.4444444444444444, \"#bd3786\"], [0.5555555555555556, \"#d8576b\"], [0.6666666666666666, \"#ed7953\"], [0.7777777777777778, \"#fb9f3a\"], [0.8888888888888888, \"#fdca26\"], [1.0, \"#f0f921\"]], \"type\": \"contour\"}], \"contourcarpet\": [{\"colorbar\": {\"outlinewidth\": 0, \"ticks\": \"\"}, \"type\": \"contourcarpet\"}], \"heatmap\": [{\"colorbar\": {\"outlinewidth\": 0, \"ticks\": \"\"}, \"colorscale\": [[0.0, \"#0d0887\"], [0.1111111111111111, \"#46039f\"], [0.2222222222222222, \"#7201a8\"], [0.3333333333333333, \"#9c179e\"], [0.4444444444444444, \"#bd3786\"], [0.5555555555555556, \"#d8576b\"], [0.6666666666666666, \"#ed7953\"], [0.7777777777777778, \"#fb9f3a\"], [0.8888888888888888, \"#fdca26\"], [1.0, \"#f0f921\"]], \"type\": \"heatmap\"}], \"heatmapgl\": [{\"colorbar\": {\"outlinewidth\": 0, \"ticks\": \"\"}, \"colorscale\": [[0.0, \"#0d0887\"], [0.1111111111111111, \"#46039f\"], [0.2222222222222222, \"#7201a8\"], [0.3333333333333333, \"#9c179e\"], [0.4444444444444444, \"#bd3786\"], [0.5555555555555556, \"#d8576b\"], [0.6666666666666666, \"#ed7953\"], [0.7777777777777778, \"#fb9f3a\"], [0.8888888888888888, \"#fdca26\"], [1.0, \"#f0f921\"]], \"type\": \"heatmapgl\"}], \"histogram\": [{\"marker\": {\"colorbar\": {\"outlinewidth\": 0, \"ticks\": \"\"}}, \"type\": \"histogram\"}], \"histogram2d\": [{\"colorbar\": {\"outlinewidth\": 0, \"ticks\": \"\"}, \"colorscale\": [[0.0, \"#0d0887\"], [0.1111111111111111, \"#46039f\"], [0.2222222222222222, \"#7201a8\"], [0.3333333333333333, \"#9c179e\"], [0.4444444444444444, \"#bd3786\"], [0.5555555555555556, \"#d8576b\"], [0.6666666666666666, \"#ed7953\"], [0.7777777777777778, \"#fb9f3a\"], [0.8888888888888888, \"#fdca26\"], [1.0, \"#f0f921\"]], \"type\": \"histogram2d\"}], \"histogram2dcontour\": [{\"colorbar\": {\"outlinewidth\": 0, \"ticks\": \"\"}, \"colorscale\": [[0.0, \"#0d0887\"], [0.1111111111111111, \"#46039f\"], [0.2222222222222222, \"#7201a8\"], [0.3333333333333333, \"#9c179e\"], [0.4444444444444444, \"#bd3786\"], [0.5555555555555556, \"#d8576b\"], [0.6666666666666666, \"#ed7953\"], [0.7777777777777778, \"#fb9f3a\"], [0.8888888888888888, \"#fdca26\"], [1.0, \"#f0f921\"]], \"type\": \"histogram2dcontour\"}], \"mesh3d\": [{\"colorbar\": {\"outlinewidth\": 0, \"ticks\": \"\"}, \"type\": \"mesh3d\"}], \"parcoords\": [{\"line\": {\"colorbar\": {\"outlinewidth\": 0, \"ticks\": \"\"}}, \"type\": \"parcoords\"}], \"pie\": [{\"automargin\": true, \"type\": \"pie\"}], \"scatter\": [{\"marker\": {\"colorbar\": {\"outlinewidth\": 0, \"ticks\": \"\"}}, \"type\": \"scatter\"}], \"scatter3d\": [{\"line\": {\"colorbar\": {\"outlinewidth\": 0, \"ticks\": \"\"}}, \"marker\": {\"colorbar\": {\"outlinewidth\": 0, \"ticks\": \"\"}}, \"type\": \"scatter3d\"}], \"scattercarpet\": [{\"marker\": {\"colorbar\": {\"outlinewidth\": 0, \"ticks\": \"\"}}, \"type\": \"scattercarpet\"}], \"scattergeo\": [{\"marker\": {\"colorbar\": {\"outlinewidth\": 0, \"ticks\": \"\"}}, \"type\": \"scattergeo\"}], \"scattergl\": [{\"marker\": {\"colorbar\": {\"outlinewidth\": 0, \"ticks\": \"\"}}, \"type\": \"scattergl\"}], \"scattermapbox\": [{\"marker\": {\"colorbar\": {\"outlinewidth\": 0, \"ticks\": \"\"}}, \"type\": \"scattermapbox\"}], \"scatterpolar\": [{\"marker\": {\"colorbar\": {\"outlinewidth\": 0, \"ticks\": \"\"}}, \"type\": \"scatterpolar\"}], \"scatterpolargl\": [{\"marker\": {\"colorbar\": {\"outlinewidth\": 0, \"ticks\": \"\"}}, \"type\": \"scatterpolargl\"}], \"scatterternary\": [{\"marker\": {\"colorbar\": {\"outlinewidth\": 0, \"ticks\": \"\"}}, \"type\": \"scatterternary\"}], \"surface\": [{\"colorbar\": {\"outlinewidth\": 0, \"ticks\": \"\"}, \"colorscale\": [[0.0, \"#0d0887\"], [0.1111111111111111, \"#46039f\"], [0.2222222222222222, \"#7201a8\"], [0.3333333333333333, \"#9c179e\"], [0.4444444444444444, \"#bd3786\"], [0.5555555555555556, \"#d8576b\"], [0.6666666666666666, \"#ed7953\"], [0.7777777777777778, \"#fb9f3a\"], [0.8888888888888888, \"#fdca26\"], [1.0, \"#f0f921\"]], \"type\": \"surface\"}], \"table\": [{\"cells\": {\"fill\": {\"color\": \"#EBF0F8\"}, \"line\": {\"color\": \"white\"}}, \"header\": {\"fill\": {\"color\": \"#C8D4E3\"}, \"line\": {\"color\": \"white\"}}, \"type\": \"table\"}]}, \"layout\": {\"annotationdefaults\": {\"arrowcolor\": \"#2a3f5f\", \"arrowhead\": 0, \"arrowwidth\": 1}, \"autotypenumbers\": \"strict\", \"coloraxis\": {\"colorbar\": {\"outlinewidth\": 0, \"ticks\": \"\"}}, \"colorscale\": {\"diverging\": [[0, \"#8e0152\"], [0.1, \"#c51b7d\"], [0.2, \"#de77ae\"], [0.3, \"#f1b6da\"], [0.4, \"#fde0ef\"], [0.5, \"#f7f7f7\"], [0.6, \"#e6f5d0\"], [0.7, \"#b8e186\"], [0.8, \"#7fbc41\"], [0.9, \"#4d9221\"], [1, \"#276419\"]], \"sequential\": [[0.0, \"#0d0887\"], [0.1111111111111111, \"#46039f\"], [0.2222222222222222, \"#7201a8\"], [0.3333333333333333, \"#9c179e\"], [0.4444444444444444, \"#bd3786\"], [0.5555555555555556, \"#d8576b\"], [0.6666666666666666, \"#ed7953\"], [0.7777777777777778, \"#fb9f3a\"], [0.8888888888888888, \"#fdca26\"], [1.0, \"#f0f921\"]], \"sequentialminus\": [[0.0, \"#0d0887\"], [0.1111111111111111, \"#46039f\"], [0.2222222222222222, \"#7201a8\"], [0.3333333333333333, \"#9c179e\"], [0.4444444444444444, \"#bd3786\"], [0.5555555555555556, \"#d8576b\"], [0.6666666666666666, \"#ed7953\"], [0.7777777777777778, \"#fb9f3a\"], [0.8888888888888888, \"#fdca26\"], [1.0, \"#f0f921\"]]}, \"colorway\": [\"#636efa\", \"#EF553B\", \"#00cc96\", \"#ab63fa\", \"#FFA15A\", \"#19d3f3\", \"#FF6692\", \"#B6E880\", \"#FF97FF\", \"#FECB52\"], \"font\": {\"color\": \"#2a3f5f\"}, \"geo\": {\"bgcolor\": \"white\", \"lakecolor\": \"white\", \"landcolor\": \"#E5ECF6\", \"showlakes\": true, \"showland\": true, \"subunitcolor\": \"white\"}, \"hoverlabel\": {\"align\": \"left\"}, \"hovermode\": \"closest\", \"mapbox\": {\"style\": \"light\"}, \"paper_bgcolor\": \"white\", \"plot_bgcolor\": \"#E5ECF6\", \"polar\": {\"angularaxis\": {\"gridcolor\": \"white\", \"linecolor\": \"white\", \"ticks\": \"\"}, \"bgcolor\": \"#E5ECF6\", \"radialaxis\": {\"gridcolor\": \"white\", \"linecolor\": \"white\", \"ticks\": \"\"}}, \"scene\": {\"xaxis\": {\"backgroundcolor\": \"#E5ECF6\", \"gridcolor\": \"white\", \"gridwidth\": 2, \"linecolor\": \"white\", \"showbackground\": true, \"ticks\": \"\", \"zerolinecolor\": \"white\"}, \"yaxis\": {\"backgroundcolor\": \"#E5ECF6\", \"gridcolor\": \"white\", \"gridwidth\": 2, \"linecolor\": \"white\", \"showbackground\": true, \"ticks\": \"\", \"zerolinecolor\": \"white\"}, \"zaxis\": {\"backgroundcolor\": \"#E5ECF6\", \"gridcolor\": \"white\", \"gridwidth\": 2, \"linecolor\": \"white\", \"showbackground\": true, \"ticks\": \"\", \"zerolinecolor\": \"white\"}}, \"shapedefaults\": {\"line\": {\"color\": \"#2a3f5f\"}}, \"ternary\": {\"aaxis\": {\"gridcolor\": \"white\", \"linecolor\": \"white\", \"ticks\": \"\"}, \"baxis\": {\"gridcolor\": \"white\", \"linecolor\": \"white\", \"ticks\": \"\"}, \"bgcolor\": \"#E5ECF6\", \"caxis\": {\"gridcolor\": \"white\", \"linecolor\": \"white\", \"ticks\": \"\"}}, \"title\": {\"x\": 0.05}, \"xaxis\": {\"automargin\": true, \"gridcolor\": \"white\", \"linecolor\": \"white\", \"ticks\": \"\", \"title\": {\"standoff\": 15}, \"zerolinecolor\": \"white\", \"zerolinewidth\": 2}, \"yaxis\": {\"automargin\": true, \"gridcolor\": \"white\", \"linecolor\": \"white\", \"ticks\": \"\", \"title\": {\"standoff\": 15}, \"zerolinecolor\": \"white\", \"zerolinewidth\": 2}}}, \"xaxis\": {\"anchor\": \"y\", \"domain\": [0.0, 1.0], \"title\": {\"text\": \"PC1\"}}, \"yaxis\": {\"anchor\": \"x\", \"domain\": [0.0, 1.0], \"title\": {\"text\": \"PC2\"}}},                        {\"responsive\": true}                    ).then(function(){\n",
       "                            \n",
       "var gd = document.getElementById('f35da4fb-af92-46b2-b090-c53643692445');\n",
       "var x = new MutationObserver(function (mutations, observer) {{\n",
       "        var display = window.getComputedStyle(gd).display;\n",
       "        if (!display || display === 'none') {{\n",
       "            console.log([gd, 'removed!']);\n",
       "            Plotly.purge(gd);\n",
       "            observer.disconnect();\n",
       "        }}\n",
       "}});\n",
       "\n",
       "// Listen for the removal of the full notebook cells\n",
       "var notebookContainer = gd.closest('#notebook-container');\n",
       "if (notebookContainer) {{\n",
       "    x.observe(notebookContainer, {childList: true});\n",
       "}}\n",
       "\n",
       "// Listen for the clearing of the current output cell\n",
       "var outputEl = gd.closest('.output');\n",
       "if (outputEl) {{\n",
       "    x.observe(outputEl, {childList: true});\n",
       "}}\n",
       "\n",
       "                        })                };                });            </script>        </div>"
      ]
     },
     "metadata": {},
     "output_type": "display_data"
    },
    {
     "name": "stdout",
     "output_type": "stream",
     "text": [
      "99 Senators in the 2020 dataset\n",
      "----------\n",
      "54.73 % variance explained by PC1\n",
      "17.46 % variance explained by PC2\n",
      "----------\n",
      "Most divisive issues (Senate):\n",
      "https://www.govtrack.us/congress/votes/116-2020/s29     0.502519\n",
      "https://www.govtrack.us/congress/votes/116-2020/s30     0.502519\n",
      "https://www.govtrack.us/congress/votes/116-2020/s27     0.502519\n",
      "https://www.govtrack.us/congress/votes/116-2020/s132    0.502314\n",
      "https://www.govtrack.us/congress/votes/116-2020/s51     0.502314\n",
      "dtype: float64\n",
      "----------\n",
      "Least divisive issues (Senate):\n",
      "https://www.govtrack.us/congress/votes/116-2020/s216    0.000000\n",
      "https://www.govtrack.us/congress/votes/116-2020/s167    0.050252\n",
      "https://www.govtrack.us/congress/votes/116-2020/s47     0.050252\n",
      "https://www.govtrack.us/congress/votes/116-2020/s115    0.070703\n",
      "https://www.govtrack.us/congress/votes/116-2020/s54     0.086146\n",
      "dtype: float64\n",
      "----------\n",
      "Most divisive issues (Democratic Party):\n",
      "https://www.govtrack.us/congress/votes/116-2020/s135    0.505291\n",
      "https://www.govtrack.us/congress/votes/116-2020/s147    0.499537\n",
      "https://www.govtrack.us/congress/votes/116-2020/s279    0.491604\n",
      "https://www.govtrack.us/congress/votes/116-2020/s166    0.488773\n",
      "https://www.govtrack.us/congress/votes/116-2020/s280    0.484735\n",
      "dtype: float64\n",
      "----------\n",
      "Least divisive issues (Democratic Party):\n",
      "https://www.govtrack.us/congress/votes/116-2020/s80    0.0\n",
      "https://www.govtrack.us/congress/votes/116-2020/s50    0.0\n",
      "https://www.govtrack.us/congress/votes/116-2020/s25    0.0\n",
      "https://www.govtrack.us/congress/votes/116-2020/s26    0.0\n",
      "https://www.govtrack.us/congress/votes/116-2020/s27    0.0\n",
      "dtype: float64\n",
      "----------\n",
      "Most divisive issues (Republican Party):\n",
      "https://www.govtrack.us/congress/votes/116-2020/s121    0.504505\n",
      "https://www.govtrack.us/congress/votes/116-2020/s120    0.501506\n",
      "https://www.govtrack.us/congress/votes/116-2020/s119    0.499151\n",
      "https://www.govtrack.us/congress/votes/116-2020/s191    0.494693\n",
      "https://www.govtrack.us/congress/votes/116-2020/s89     0.493548\n",
      "dtype: float64\n",
      "----------\n",
      "Least divisive issues (Republican Party):\n",
      "https://www.govtrack.us/congress/votes/116-2020/s146    0.0\n",
      "https://www.govtrack.us/congress/votes/116-2020/s215    0.0\n",
      "https://www.govtrack.us/congress/votes/116-2020/s216    0.0\n",
      "https://www.govtrack.us/congress/votes/116-2020/s218    0.0\n",
      "https://www.govtrack.us/congress/votes/116-2020/s220    0.0\n",
      "dtype: float64\n"
     ]
    }
   ],
   "source": [
    "pca_clustering(2020, 8, 'Party')"
   ]
  },
  {
   "cell_type": "markdown",
   "id": "economic-breathing",
   "metadata": {},
   "source": [
    "### Limitations\n",
    "One major limitation is that, as much as I tried, I could not find a meaningful interpretation of what PC1 and PC2 represent for both the Democratic and Republican parties. While it does appear to provide separation and aid in picking out the more fringe senators (e.g. progressives, Tea Partiers, etc.), it is very difficult to arrive at a sound conclusion as to what it actually represents. This is in comparison to PC1 for the Senate as a whole, which very obviously represents Democrats vs. Republicans.\n",
    "### Future directions\n",
    "In this project, I focus on the current year 2020, but in the future, it would be interesting to run analyses on multiple years and do a comparative analysis with regards to the degree of polarization, the most polarizing issues, the cluster structure, etc.\n",
    "### Conclusion\n",
    "I saw [this Tweet](https://twitter.com/seanjtaylor/status/1331426161356808192) today, and found it to encapsulate my motivation for pursuing this project: \"Perhaps my most controversial opinion: In machine learning education, the focus on supervised learning and particularly on classification problems gives people a totally misguided idea about how to use data to solve real problems.\" I wanted to avoid the mostly banal Kaggle/UCI datasets and build a pipeline to gather my own data. Congressional data does not lend itself to sophisticated machine learning classification/regression models, but I believe that by applying PCA + clustering to it, I learned a lot about the structure of our political system - data-driven knowledge that could not be attained just by reading the news. This pipeline could be used to gather data on any Congress, all the way back to the first Congress of 1789, and could provide the basis for very interesting quantitative comparisons of how American politics has evolved over time."
   ]
  }
 ],
 "metadata": {
  "kernelspec": {
   "display_name": "Python 3",
   "language": "python",
   "name": "python3"
  },
  "language_info": {
   "codemirror_mode": {
    "name": "ipython",
    "version": 3
   },
   "file_extension": ".py",
   "mimetype": "text/x-python",
   "name": "python",
   "nbconvert_exporter": "python",
   "pygments_lexer": "ipython3",
   "version": "3.8.8"
  }
 },
 "nbformat": 4,
 "nbformat_minor": 5
}
