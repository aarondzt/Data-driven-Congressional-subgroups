{
 "cells": [
  {
   "cell_type": "code",
   "execution_count": 1,
   "metadata": {},
   "outputs": [],
   "source": [
    "# # Download voting records\n",
    "# base = 'https://www.govtrack.us/congress/votes/116-2020/'\n",
    "# import urllib.request\n",
    "# for x in range(1, 228):\n",
    "#     x = str(x)\n",
    "#     url = base + 'h' + x + '/export/csv'\n",
    "#     file = x + '.csv'\n",
    "#     urllib.request.urlretrieve(url, file)"
   ]
  },
  {
   "cell_type": "code",
   "execution_count": 2,
   "metadata": {},
   "outputs": [],
   "source": [
    "# Extract bills\n",
    "import pandas as pd\n",
    "bills = []\n",
    "for x in range(1, 228):\n",
    "    file = 'data_house/' + str(x) + '.csv'\n",
    "    bills_data = pd.read_csv(file)\n",
    "    bill = bills_data.columns[0]\n",
    "    bill = bill.split(' - ')[1]\n",
    "    bills.append(bill)"
   ]
  },
  {
   "cell_type": "code",
   "execution_count": 3,
   "metadata": {},
   "outputs": [],
   "source": [
    "# # Extract votes\n",
    "# bill_nos = []\n",
    "# names = []\n",
    "# votes = []\n",
    "# party = []\n",
    "# for x in range(1, 228):\n",
    "#     file = 'data_house/' + str(x) + '.csv'\n",
    "#     votes_data = pd.read_csv(file, skiprows = 1)\n",
    "#     length = len(votes_data)\n",
    "#     for y in range (0, length):\n",
    "#         bill_nos.append(x)\n",
    "#         names.append(votes_data.iloc[y]['name'])\n",
    "#         votes.append(votes_data.iloc[y]['vote'])\n",
    "#         party.append(votes_data.iloc[y]['party'])"
   ]
  },
  {
   "cell_type": "code",
   "execution_count": 4,
   "metadata": {},
   "outputs": [],
   "source": [
    "# # Get unique representatives\n",
    "# unique_names = set(names)\n",
    "# unique_names = list(unique_names)"
   ]
  },
  {
   "cell_type": "code",
   "execution_count": 5,
   "metadata": {},
   "outputs": [],
   "source": [
    "# # Create data frame of all votes\n",
    "# all_votes = pd.DataFrame({'BillNo': bill_nos, 'Name': names, 'Vote': votes, 'Party': party})"
   ]
  },
  {
   "cell_type": "code",
   "execution_count": 6,
   "metadata": {},
   "outputs": [],
   "source": [
    "# # Create final data frame for analysis\n",
    "# data = pd.DataFrame(columns = range(1, 228))\n",
    "# data.insert(0, 'Representative', unique_names)\n",
    "# data.index = unique_names\n",
    "# data = data.drop('Representative', axis = 1)"
   ]
  },
  {
   "cell_type": "code",
   "execution_count": 7,
   "metadata": {},
   "outputs": [],
   "source": [
    "# # Fill in final data frame\n",
    "# for representative in unique_names:\n",
    "#     for bill in range(1, 228):\n",
    "#         rep_record = all_votes[all_votes['Name'] == representative]\n",
    "#         if bill in list(rep_record['BillNo']):\n",
    "#             rep_voteonbill = rep_record[rep_record['BillNo'] == bill]['Vote'].iloc[0]\n",
    "#             data.loc[representative][bill] = rep_voteonbill\n",
    "#         else:\n",
    "#             data.loc[representative][bill] = None"
   ]
  },
  {
   "cell_type": "code",
   "execution_count": 8,
   "metadata": {},
   "outputs": [],
   "source": [
    "# # Save to csv before naming columns (commas in bill names mess up .csv)\n",
    "# data.to_csv('data_house\\data.csv')"
   ]
  },
  {
   "cell_type": "code",
   "execution_count": 9,
   "metadata": {},
   "outputs": [],
   "source": [
    "# Load csv to save time\n",
    "import pandas as pd\n",
    "data = pd.read_csv('data_house/data.csv', index_col = 0)"
   ]
  },
  {
   "cell_type": "code",
   "execution_count": 10,
   "metadata": {},
   "outputs": [],
   "source": [
    "# Name columns\n",
    "data.columns = bills"
   ]
  },
  {
   "cell_type": "code",
   "execution_count": 11,
   "metadata": {},
   "outputs": [],
   "source": [
    "# Drop \"Call of the House,\" 226 columns left\n",
    "data = data.drop('Call of the House', axis = 1)"
   ]
  },
  {
   "cell_type": "code",
   "execution_count": 12,
   "metadata": {},
   "outputs": [
    {
     "name": "stdout",
     "output_type": "stream",
     "text": [
      "(441, 226)\n",
      "(425, 226)\n"
     ]
    }
   ],
   "source": [
    "# Drop NAs, NAs are mostly non-50-states representatives + representatives who resigned\n",
    "print(data.shape)\n",
    "data = data.dropna(axis = 0)\n",
    "print(data.shape)"
   ]
  },
  {
   "cell_type": "code",
   "execution_count": 13,
   "metadata": {},
   "outputs": [],
   "source": [
    "# Quantify data\n",
    "data = data.replace('Nay', 0)\n",
    "data = data.replace('No', 0)\n",
    "data = data.replace('Yea', 1)\n",
    "data = data.replace('Aye', 1)\n",
    "data = data.replace('Not Voting', 0.5)\n",
    "data = data.replace('Present', 0.5)"
   ]
  },
  {
   "cell_type": "code",
   "execution_count": 14,
   "metadata": {},
   "outputs": [],
   "source": [
    "# Only look at H.R. votes\n",
    "filter_col = [col for col in data if col.startswith('H.R.')]\n",
    "data = data[set(filter_col)]"
   ]
  },
  {
   "cell_type": "markdown",
   "metadata": {},
   "source": [
    "Note: There are 2 duplicate columns because there were 2 votes on the same bill"
   ]
  },
  {
   "cell_type": "code",
   "execution_count": 15,
   "metadata": {},
   "outputs": [],
   "source": [
    "# Extract and insert party\n",
    "import re\n",
    "party = []\n",
    "for representative in data.index:\n",
    "    res = re.findall(r'\\[.*?\\]', representative)\n",
    "    res = res[0][1]\n",
    "    party.append(res)\n",
    "data.insert(0, 'Party', party)"
   ]
  },
  {
   "cell_type": "code",
   "execution_count": 16,
   "metadata": {},
   "outputs": [
    {
     "data": {
      "text/plain": [
       "(425, 32)"
      ]
     },
     "execution_count": 16,
     "metadata": {},
     "output_type": "execute_result"
    }
   ],
   "source": [
    "# Principal component analysis\n",
    "from sklearn.decomposition import PCA\n",
    "pca = PCA(n_components = 0.95)\n",
    "pca.fit(data.iloc[:,1:].T)\n",
    "pca_data = pd.DataFrame(pca.components_)\n",
    "pca_data = pca_data.T\n",
    "pca_data.shape"
   ]
  },
  {
   "cell_type": "code",
   "execution_count": 17,
   "metadata": {},
   "outputs": [
    {
     "data": {
      "text/plain": [
       "<AxesSubplot:xlabel='0', ylabel='1'>"
      ]
     },
     "execution_count": 17,
     "metadata": {},
     "output_type": "execute_result"
    },
    {
     "data": {
      "image/png": "[encoded data removed]",
      "text/plain": [
       "<Figure size 432x288 with 1 Axes>"
      ]
     },
     "metadata": {
      "needs_background": "light"
     },
     "output_type": "display_data"
    }
   ],
   "source": [
    "# Scatterplot of first two PCs with party as label\n",
    "import seaborn as sns\n",
    "sns.scatterplot(x = pca_data[0], y = pca_data[1], hue = data['Party'].values)"
   ]
  },
  {
   "cell_type": "markdown",
   "metadata": {},
   "source": [
    "It looks like there are ~three distinct clusters of Democrats, what does this mean?"
   ]
  },
  {
   "cell_type": "code",
   "execution_count": 18,
   "metadata": {},
   "outputs": [],
   "source": [
    "# Filter by Democrats\n",
    "democrats = data[data['Party'] == 'D']"
   ]
  },
  {
   "cell_type": "code",
   "execution_count": 19,
   "metadata": {},
   "outputs": [
    {
     "data": {
      "text/plain": [
       "(230, 26)"
      ]
     },
     "execution_count": 19,
     "metadata": {},
     "output_type": "execute_result"
    }
   ],
   "source": [
    "# Principal component analysis on Democrats\n",
    "from sklearn.decomposition import PCA\n",
    "pca = PCA(n_components = 0.95)\n",
    "pca.fit(democrats.iloc[:,1:].T)\n",
    "pca_data = pd.DataFrame(pca.components_)\n",
    "pca_data = pca_data.T\n",
    "pca_data.shape"
   ]
  },
  {
   "cell_type": "code",
   "execution_count": 20,
   "metadata": {},
   "outputs": [
    {
     "data": {
      "text/plain": [
       "<AxesSubplot:xlabel='0', ylabel='1'>"
      ]
     },
     "execution_count": 20,
     "metadata": {},
     "output_type": "execute_result"
    },
    {
     "data": {
      "image/png": "[encoded data removed]",
      "text/plain": [
       "<Figure size 432x288 with 1 Axes>"
      ]
     },
     "metadata": {
      "needs_background": "light"
     },
     "output_type": "display_data"
    }
   ],
   "source": [
    "# Scatterplot of first two PCs\n",
    "import seaborn as sns\n",
    "sns.scatterplot(x = pca_data[0], y = pca_data[1])"
   ]
  },
  {
   "cell_type": "code",
   "execution_count": 21,
   "metadata": {},
   "outputs": [],
   "source": [
    "# Insert PC1\n",
    "democrats.insert(0, 'PC1', pca_data[0].values)"
   ]
  },
  {
   "cell_type": "code",
   "execution_count": 22,
   "metadata": {},
   "outputs": [
    {
     "data": {
      "text/plain": [
       "Index(['Rep. Jesús García [D]', 'Rep. Ilhan Omar [D]',\n",
       "       'Rep. Rashida Tlaib [D]', 'Rep. Alexandria Ocasio-Cortez [D]',\n",
       "       'Rep. Ro Khanna [D]', 'Rep. Ayanna Pressley [D]',\n",
       "       'Rep. Pramila Jayapal [D]', 'Rep. Lloyd Doggett [D]',\n",
       "       'Rep. Jimmy Gomez [D]', 'Rep. Grace Meng [D]'],\n",
       "      dtype='object')"
      ]
     },
     "execution_count": 22,
     "metadata": {},
     "output_type": "execute_result"
    }
   ],
   "source": [
    "# PC1 seems to capture the most leftist representatives in the negative direction\n",
    "democrats.sort_values('PC1').index[0:10]"
   ]
  },
  {
   "cell_type": "code",
   "execution_count": 23,
   "metadata": {},
   "outputs": [],
   "source": [
    "# Insert PC2\n",
    "democrats.insert(0, 'PC2', pca_data[1].values)"
   ]
  },
  {
   "cell_type": "code",
   "execution_count": 27,
   "metadata": {},
   "outputs": [
    {
     "data": {
      "text/plain": [
       "Index(['Rep. Sheila Jackson Lee [D]', 'Rep. Bobby Rush [D]',\n",
       "       'Rep. Tom O’Halleran [D]', 'Rep. Joaquin Castro [D]',\n",
       "       'Rep. Kathleen Rice [D]', 'Rep. TJ Cox [D]', 'Rep. Peter DeFazio [D]',\n",
       "       'Rep. Maxine Waters [D]', 'Rep. Raúl Grijalva [D]',\n",
       "       'Rep. Tulsi Gabbard [D]'],\n",
       "      dtype='object')"
      ]
     },
     "execution_count": 27,
     "metadata": {},
     "output_type": "execute_result"
    }
   ],
   "source": [
    "# PC2\n",
    "democrats.sort_values('PC2').index[-10:]"
   ]
  },
  {
   "cell_type": "code",
   "execution_count": 41,
   "metadata": {},
   "outputs": [
    {
     "data": {
      "text/plain": [
       "Index(['H.R. 6172: USA FREEDOM Reauthorization Act of 2020', 'PC1',\n",
       "       'H.R. 5932: Ensuring Chinese Debt Transparency Act of 2020',\n",
       "       'H.R. 4508: Malala Yousafzai Scholarship Act',\n",
       "       'H.R. 5003: Fair Debt Collection Practices for Servicemembers Act'],\n",
       "      dtype='object')"
      ]
     },
     "execution_count": 41,
     "metadata": {},
     "output_type": "execute_result"
    }
   ],
   "source": [
    "# Most negative correlations\n",
    "democrats.corr()['PC2'].sort_values().index[0:5]"
   ]
  },
  {
   "cell_type": "code",
   "execution_count": 42,
   "metadata": {},
   "outputs": [
    {
     "data": {
      "text/plain": [
       "Index(['H.R. 7573: To direct the Joint Committee on the Library to replace the bust of Roger Brooke Taney in the Old Supreme Court Chamber of the United States Capitol with a bust of Thurgood Marshall to be obtained by the Joint Committee on the Library and to r',\n",
       "       'H.R. 5664: LIFT Act', 'H.R. 7027: Child Care Is Essential Act',\n",
       "       'H.R. 7120: George Floyd Justice in Policing Act of 2020',\n",
       "       'H.R. 7010: Paycheck Protection Program Flexibility Act of 2020'],\n",
       "      dtype='object')"
      ]
     },
     "execution_count": 42,
     "metadata": {},
     "output_type": "execute_result"
    }
   ],
   "source": [
    "# Most positive correlations\n",
    "democrats.corr()['PC2'].sort_values().index[-5:]"
   ]
  }
 ],
 "metadata": {
  "kernelspec": {
   "display_name": "Python 3",
   "language": "python",
   "name": "python3"
  },
  "language_info": {
   "codemirror_mode": {
    "name": "ipython",
    "version": 3
   },
   "file_extension": ".py",
   "mimetype": "text/x-python",
   "name": "python",
   "nbconvert_exporter": "python",
   "pygments_lexer": "ipython3",
   "version": "3.8.5"
  }
 },
 "nbformat": 4,
 "nbformat_minor": 4
}
