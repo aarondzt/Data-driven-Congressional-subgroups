{
 "cells": [
  {
   "cell_type": "markdown",
   "metadata": {},
   "source": [
    "### To-do\n",
    "* Impute NaN, by row, by column, by party vote?\n",
    "* Remove columns with >80% NaN before removing rows\n",
    "* Name columns as urls"
   ]
  },
  {
   "cell_type": "markdown",
   "metadata": {},
   "source": [
    "### Overview\n",
    "Congressional voting patterns go beyond Democrat vs. Republican party lines. In this project, I \"scrape\" voting record data from GovTrack, extract all the representatives and their votes, and perform clustering in order to determine subgroups within the Democratic and Republican parties. Interestingly, for both parties, there is a \"mainstream\" voting cluster and distant clusters that represent smaller factions within the parties. I performed this analysis for both the House of Representatives and the Senate, but I decided to focus my analysis on the Senate because there are fewer members, and those members are more widely known.\n",
    "### Goals\n",
    "My main goal was to build a data extraction pipeline for GovTrack that could be used to run interesting analyses on Congressional voting patterns from any year. \n",
    "### Data\n",
    "Data was \"scraped\" from https://www.govtrack.us/congress/votes. On this page are all the votes for both chambers of Congress that can be filtered by year, chamber, category, etc. In each vote's page, there is a .csv file that contains the names of all the present representatives and their vote.\n",
    "### Methods\n",
    "Note: Many code cells are commented out because they take a long time to run.\n",
    "First, I \"scraped\" voting records from https://www.govtrack.us/congress/votes. \"Scraped\" is in quotations because BeautifulSoup could not detect the relevant information on the page for some reason. However, I noticed a pattern that each Congress (e.g. 116th Congress of 2020) is represented as \"votes/116-2020,\" the Senate is represented as \"s,\" and each vote is numbered numerically from the first to the last (e.g. s1-s239). This way, I could easily run a for loop to download the .csv of each vote from https://www.govtrack.us/congress/votes/116-2020/s[x]/export/csv. "
   ]
  },
  {
   "cell_type": "markdown",
   "metadata": {},
   "source": [
    "### Data scraping and cleaning"
   ]
  },
  {
   "cell_type": "code",
   "execution_count": 1,
   "metadata": {},
   "outputs": [],
   "source": [
    "# Import packages\n",
    "import pandas as pd\n",
    "import urllib.request\n",
    "import os.path\n",
    "from os import mkdir\n",
    "import re\n",
    "import datetime"
   ]
  },
  {
   "cell_type": "code",
   "execution_count": 2,
   "metadata": {},
   "outputs": [],
   "source": [
    "govtrack1 = pd.read_csv('govtrack1.csv')\n",
    "govtrack2 = pd.read_csv('govtrack2.csv')"
   ]
  },
  {
   "cell_type": "code",
   "execution_count": null,
   "metadata": {},
   "outputs": [],
   "source": [
    "# Download voting records (first batch)\n",
    "for x in range(1, len(govtrack1)):\n",
    "    congress = govtrack1['Congress'][x]\n",
    "    year = govtrack1['Year'][x]\n",
    "    folder = 'C:/Users/HP/Dropbox/UMBC/Datasets/Political Polarization from 1941-2020/Data-driven-Congressional-subgroups/data_senate/' + str(year)\n",
    "    mkdir(folder)\n",
    "    base = 'https://www.govtrack.us/congress/votes/' + str(congress) + '-' + str(year)\n",
    "    items = govtrack1['Items 1'][x]\n",
    "    for y in range(1, items + 1):\n",
    "        url = base + '/s' + str(y) + '/export/csv'\n",
    "        file = 'data_senate/' + str(year) + '/' + str(y) + '.csv'\n",
    "        try:\n",
    "            urllib.request.urlretrieve(url, file)\n",
    "        except:\n",
    "            pass"
   ]
  },
  {
   "cell_type": "code",
   "execution_count": null,
   "metadata": {},
   "outputs": [],
   "source": [
    "# Download voting records (second batch, different items structure)\n",
    "for x in range(len(govtrack2)):\n",
    "    congress = govtrack2['Congress'][x]\n",
    "    year = govtrack2['Year'][x]\n",
    "    folder = 'C:/Users/HP/Dropbox/UMBC/Datasets/Political Polarization from 1941-2020/Data-driven-Congressional-subgroups/data_senate/' + str(year)\n",
    "    mkdir(folder)\n",
    "    base = 'https://www.govtrack.us/congress/votes/' + str(congress) + '-' + str(year)\n",
    "    if (year % 2) == 0:\n",
    "        items_beg = govtrack2['Items 2'][x + 1] + 1\n",
    "        items_end = govtrack2['Items 2'][x]\n",
    "        for y in range(items_beg, items_end + 1):\n",
    "            url = base + '/s' + str(y) + '/export/csv'\n",
    "            file = 'data_senate/' + str(year) + '/' + str(y) + '.csv'\n",
    "            try:\n",
    "                urllib.request.urlretrieve(url, file)\n",
    "            except:\n",
    "                pass\n",
    "    else:\n",
    "        items_beg = 1\n",
    "        items_end = govtrack2['Items 2'][x]\n",
    "        for y in range(items_beg, items_end + 1):\n",
    "            url = base + '/s' + str(y) + '/export/csv'\n",
    "            file = 'data_senate/' + str(year) + '/' + str(y) + '.csv'\n",
    "            try:\n",
    "                urllib.request.urlretrieve(url, file)\n",
    "            except:\n",
    "                pass"
   ]
  },
  {
   "cell_type": "code",
   "execution_count": 3,
   "metadata": {},
   "outputs": [],
   "source": [
    "# Define extract bills function\n",
    "def process_within_year(year, items_beg, items_end, govtrack):\n",
    "    print(datetime.datetime.now())\n",
    "    print('Starting ' + str(year) + ' processing')\n",
    "    bills = []\n",
    "    passed = []\n",
    "    for x in range(items_beg, items_end + 1):\n",
    "        file = 'data_senate/' + str(year) + '/' + str(x) + '.csv'\n",
    "        try: \n",
    "            bills_data = pd.read_csv(file, nrows = 1)\n",
    "            congress = govtrack[govtrack['Year'] == year]['Congress'].iloc[0]\n",
    "            base = 'https://www.govtrack.us/congress/votes/' + str(congress) + '-' + str(year)\n",
    "            url = base + '/s' + str(x)\n",
    "            bills.append(url)\n",
    "            \n",
    "#             bill = bills_data.columns[0]\n",
    "#             bill = bill.split(' - ')[1]\n",
    "#             # Remove commas\n",
    "#             bill = bill.replace(',', '')\n",
    "#             bills.append(bill)\n",
    "        except:\n",
    "            passed.append(x)\n",
    "        \n",
    "    # Extract votes\n",
    "    bill_nos = []\n",
    "    names = []\n",
    "    votes = []\n",
    "    party = []\n",
    "    for x in range(items_beg, items_end + 1):\n",
    "        file = 'data_senate/' + str(year) + '/' + str(x) + '.csv'\n",
    "        # Some files have extra bill rows or a blank row or are missing the header...\n",
    "        try: \n",
    "            if pd.read_csv(file, skiprows = 1).iloc[0].index[0] == 'person':\n",
    "                votes_data = pd.read_csv(file, skiprows = 1)\n",
    "            elif pd.read_csv(file, skiprows = 2).iloc[0].index[0] == 'person':\n",
    "                votes_data = pd.read_csv(file, skiprows = 2)\n",
    "            elif pd.read_csv(file, skiprows = 3).iloc[0].index[0] == 'person':\n",
    "                votes_data = pd.read_csv(file, skiprows = 3)\n",
    "            else: \n",
    "                votes_data = pd.read_csv(file, skiprows = 0, header = None)\n",
    "                votes_data = votes_data.iloc[:,0:6]\n",
    "                votes_data.columns = ['person', 'state', 'district', 'vote', 'name', 'party']\n",
    "            length = len(votes_data)\n",
    "            for y in range (0, length):\n",
    "                bill_nos.append(x)\n",
    "                names.append(votes_data.iloc[y]['name'])\n",
    "                votes.append(votes_data.iloc[y]['vote'])\n",
    "                party.append(votes_data.iloc[y]['party'])\n",
    "        except:\n",
    "            pass\n",
    "            \n",
    "    # Get unique representatives\n",
    "    unique_names = set(names)\n",
    "    unique_names = list(unique_names)\n",
    "    \n",
    "    # Create data frame of all votes\n",
    "    all_votes = pd.DataFrame({'BillNo': bill_nos, 'Name': names, 'Vote': votes, 'Party': party})\n",
    "    \n",
    "    # Create final data frame for analysis\n",
    "    data = pd.DataFrame(columns = range(items_beg, items_end + 1))\n",
    "    data.insert(0, 'Representative', unique_names)\n",
    "    data.index = unique_names\n",
    "    data = data.drop('Representative', axis = 1)\n",
    "    data = data.drop(passed, axis = 1)\n",
    "    \n",
    "    # Fill in final data frame\n",
    "    for representative in unique_names:\n",
    "        for bill in range(items_beg, items_end + 1):\n",
    "            rep_record = all_votes[all_votes['Name'] == representative]\n",
    "            if bill in list(rep_record['BillNo']):\n",
    "                rep_voteonbill = rep_record[rep_record['BillNo'] == bill]['Vote'].iloc[0]\n",
    "                data.loc[representative][bill] = rep_voteonbill\n",
    "            else:\n",
    "                data.loc[representative][bill] = None\n",
    "     \n",
    "    # Name columns\n",
    "    data.columns = bills\n",
    "    \n",
    "    # Quantify data\n",
    "    data = data.replace('Nay', 0)\n",
    "    data = data.replace('No', 0)\n",
    "    data = data.replace('Yea', 1)\n",
    "    data = data.replace('Aye', 1)\n",
    "    data = data.replace('Not Voting', 0.5)\n",
    "    data = data.replace('Present', 0.5)\n",
    "    data = data.replace('Not Guilty', 0)\n",
    "    data = data.replace('Guilty', 1)\n",
    "    \n",
    "    # Remove rows with NaN\n",
    "    data = data.dropna(axis = 1, how = 'all')\n",
    "    data = data.dropna(axis = 0, how = 'any')\n",
    "    print(str(len(data)) + ' representatives in ' + str(year))\n",
    "    \n",
    "    # Extract and insert party\n",
    "    party = []\n",
    "    for representative in data.index:\n",
    "        res = re.findall(r'\\[.*?\\]', representative)\n",
    "        res = res[0][1]\n",
    "        party.append(res)\n",
    "    data.insert(0, 'Party', party)\n",
    "\n",
    "    # Save to csv\n",
    "    print(datetime.datetime.now())\n",
    "    print('Saving ' + str(year) + ' data')\n",
    "    data.to_csv('data_senate/data/' + str(year) + '.csv')"
   ]
  },
  {
   "cell_type": "code",
   "execution_count": 4,
   "metadata": {},
   "outputs": [
    {
     "name": "stdout",
     "output_type": "stream",
     "text": [
      "2021-03-16 20:25:43.548461\n",
      "Starting 1989 processing\n",
      "100 representatives in 1989\n",
      "2021-03-16 20:27:14.826794\n",
      "Saving 1989 data\n",
      "2021-03-16 20:27:14.846857\n",
      "Starting 1990 processing\n",
      "99 representatives in 1990\n",
      "2021-03-16 20:28:56.737366\n",
      "Saving 1990 data\n",
      "2021-03-16 20:28:56.759488\n",
      "Starting 1991 processing\n",
      "99 representatives in 1991\n",
      "2021-03-16 20:30:10.844044\n",
      "Saving 1991 data\n",
      "2021-03-16 20:30:10.864149\n",
      "Starting 1992 processing\n",
      "99 representatives in 1992\n",
      "2021-03-16 20:31:42.640541\n",
      "Saving 1992 data\n",
      "2021-03-16 20:31:42.660588\n",
      "Starting 1993 processing\n",
      "99 representatives in 1993\n",
      "2021-03-16 20:34:34.916551\n",
      "Saving 1993 data\n",
      "2021-03-16 20:34:34.946682\n",
      "Starting 1994 processing\n",
      "99 representatives in 1994\n",
      "2021-03-16 20:36:22.482140\n",
      "Saving 1994 data\n",
      "2021-03-16 20:36:22.510237\n",
      "Starting 1995 processing\n",
      "99 representatives in 1995\n",
      "2021-03-16 20:41:31.323699\n",
      "Saving 1995 data\n",
      "2021-03-16 20:41:31.351857\n",
      "Starting 1996 processing\n",
      "98 representatives in 1996\n",
      "2021-03-16 20:43:21.405481\n",
      "Saving 1996 data\n",
      "2021-03-16 20:43:21.425563\n",
      "Starting 1997 processing\n",
      "100 representatives in 1997\n",
      "2021-03-16 20:44:50.624526\n",
      "Saving 1997 data\n",
      "2021-03-16 20:44:50.644595\n",
      "Starting 1998 processing\n",
      "100 representatives in 1998\n",
      "2021-03-16 20:46:31.383528\n",
      "Saving 1998 data\n",
      "2021-03-16 20:46:31.401575\n",
      "Starting 1999 processing\n",
      "99 representatives in 1999\n",
      "2021-03-16 20:48:36.698050\n",
      "Saving 1999 data\n",
      "2021-03-16 20:48:36.728252\n",
      "Starting 2000 processing\n",
      "99 representatives in 2000\n",
      "2021-03-16 20:50:00.419558\n",
      "Saving 2000 data\n",
      "2021-03-16 20:50:00.447739\n",
      "Starting 2001 processing\n",
      "100 representatives in 2001\n",
      "2021-03-16 20:52:09.317659\n",
      "Saving 2001 data\n",
      "2021-03-16 20:52:09.337731\n",
      "Starting 2002 processing\n",
      "99 representatives in 2002\n",
      "2021-03-16 20:53:25.655975\n",
      "Saving 2002 data\n",
      "2021-03-16 20:53:25.674034\n",
      "Starting 2003 processing\n",
      "100 representatives in 2003\n",
      "2021-03-16 20:56:40.604808\n",
      "Saving 2003 data\n",
      "2021-03-16 20:56:40.645012\n",
      "Starting 2004 processing\n",
      "100 representatives in 2004\n",
      "2021-03-16 20:57:30.050795\n",
      "Saving 2004 data\n",
      "2021-03-16 20:57:30.060846\n",
      "Starting 2005 processing\n",
      "100 representatives in 2005\n",
      "2021-03-16 20:59:30.332192\n",
      "Saving 2005 data\n",
      "2021-03-16 20:59:30.360382\n",
      "Starting 2006 processing\n",
      "100 representatives in 2006\n",
      "2021-03-16 21:00:45.274443\n",
      "Saving 2006 data\n",
      "2021-03-16 21:00:45.292484\n",
      "Starting 2007 processing\n",
      "99 representatives in 2007\n",
      "2021-03-16 21:03:44.826479\n",
      "Saving 2007 data\n",
      "2021-03-16 21:03:44.854600\n",
      "Starting 2008 processing\n",
      "99 representatives in 2008\n",
      "2021-03-16 21:04:34.905419\n",
      "Saving 2008 data\n",
      "2021-03-16 21:04:34.915459\n",
      "Starting 2009 processing\n",
      "93 representatives in 2009\n",
      "2021-03-16 21:06:59.110004\n",
      "Saving 2009 data\n",
      "2021-03-16 21:06:59.132105\n",
      "Starting 2010 processing\n",
      "96 representatives in 2010\n",
      "2021-03-16 21:08:47.162555\n",
      "Saving 2010 data\n",
      "2021-03-16 21:08:47.180684\n",
      "Starting 2011 processing\n",
      "99 representatives in 2011\n",
      "2021-03-16 21:09:45.136483\n",
      "Saving 2011 data\n",
      "2021-03-16 21:09:45.158601\n",
      "Starting 2012 processing\n",
      "99 representatives in 2012\n",
      "2021-03-16 21:10:49.104224\n",
      "Saving 2012 data\n",
      "2021-03-16 21:10:49.124327\n",
      "Starting 2013 processing\n",
      "98 representatives in 2013\n",
      "2021-03-16 21:12:10.529179\n",
      "Saving 2013 data\n",
      "2021-03-16 21:12:10.549269\n",
      "Starting 2014 processing\n",
      "99 representatives in 2014\n",
      "2021-03-16 21:14:22.935630\n",
      "Saving 2014 data\n",
      "2021-03-16 21:14:22.965775\n",
      "Starting 2015 processing\n",
      "100 representatives in 2015\n",
      "2021-03-16 21:16:06.503445\n",
      "Saving 2015 data\n",
      "2021-03-16 21:16:06.523533\n",
      "Starting 2016 processing\n",
      "100 representatives in 2016\n",
      "2021-03-16 21:16:39.594047\n",
      "Saving 2016 data\n",
      "2021-03-16 21:16:39.604088\n",
      "Starting 2017 processing\n",
      "99 representatives in 2017\n",
      "2021-03-16 21:18:37.833748\n",
      "Saving 2017 data\n",
      "2021-03-16 21:18:37.859383\n",
      "Starting 2018 processing\n",
      "98 representatives in 2018\n",
      "2021-03-16 21:19:55.122321\n",
      "Saving 2018 data\n",
      "2021-03-16 21:19:55.142393\n",
      "Starting 2019 processing\n",
      "100 representatives in 2019\n",
      "2021-03-16 21:22:29.592043\n",
      "Saving 2019 data\n",
      "2021-03-16 21:22:29.612195\n",
      "Starting 2020 processing\n",
      "99 representatives in 2020\n",
      "2021-03-16 21:23:50.198552\n",
      "Saving 2020 data\n"
     ]
    }
   ],
   "source": [
    "for year in range(1989, 2020 + 1):\n",
    "    items_beg = 1\n",
    "    items_end = int(govtrack1['Items 1'][govtrack1['Year'] == year])\n",
    "    process_within_year(year, items_beg, items_end, govtrack1)"
   ]
  },
  {
   "cell_type": "code",
   "execution_count": 5,
   "metadata": {},
   "outputs": [
    {
     "name": "stdout",
     "output_type": "stream",
     "text": [
      "2021-03-16 21:23:50.238713\n",
      "Starting 1941 processing\n",
      "89 representatives in 1941\n",
      "2021-03-16 21:24:06.966601\n",
      "Saving 1941 data\n",
      "2021-03-16 21:24:06.974645\n",
      "Starting 1942 processing\n",
      "94 representatives in 1942\n",
      "2021-03-16 21:24:21.941251\n",
      "Saving 1942 data\n",
      "2021-03-16 21:24:21.949266\n",
      "Starting 1943 processing\n",
      "92 representatives in 1943\n",
      "2021-03-16 21:24:42.996899\n",
      "Saving 1943 data\n",
      "2021-03-16 21:24:43.004922\n",
      "Starting 1944 processing\n",
      "89 representatives in 1944\n",
      "2021-03-16 21:24:59.357596\n",
      "Saving 1944 data\n",
      "2021-03-16 21:24:59.359620\n",
      "Starting 1945 processing\n",
      "80 representatives in 1945\n",
      "2021-03-16 21:25:18.560052\n",
      "Saving 1945 data\n",
      "2021-03-16 21:25:18.570117\n",
      "Starting 1946 processing\n",
      "95 representatives in 1946\n",
      "2021-03-16 21:25:43.530665\n",
      "Saving 1946 data\n",
      "2021-03-16 21:25:43.538702\n",
      "Starting 1947 processing\n",
      "61 representatives in 1947\n",
      "2021-03-16 21:26:07.977980\n",
      "Saving 1947 data\n",
      "2021-03-16 21:26:07.986021\n",
      "Starting 1948 processing\n",
      "94 representatives in 1948\n",
      "2021-03-16 21:26:26.497902\n",
      "Saving 1948 data\n",
      "2021-03-16 21:26:26.507950\n",
      "Starting 1949 processing\n",
      "108 representatives in 1949\n",
      "2021-03-16 21:27:27.530585\n",
      "Saving 1949 data\n",
      "2021-03-16 21:27:27.540698\n",
      "Starting 1950 processing\n",
      "108 representatives in 1950\n",
      "2021-03-16 21:28:29.829336\n",
      "Saving 1950 data\n",
      "2021-03-16 21:28:29.849411\n",
      "Starting 1951 processing\n",
      "94 representatives in 1951\n",
      "2021-03-16 21:29:13.208639\n",
      "Saving 1951 data\n",
      "2021-03-16 21:29:13.218725\n",
      "Starting 1952 processing\n",
      "96 representatives in 1952\n",
      "2021-03-16 21:29:32.293215\n",
      "Saving 1952 data\n",
      "2021-03-16 21:29:32.303252\n",
      "Starting 1953 processing\n",
      "95 representatives in 1953\n",
      "2021-03-16 21:29:46.426354\n",
      "Saving 1953 data\n",
      "2021-03-16 21:29:46.434387\n",
      "Starting 1954 processing\n",
      "88 representatives in 1954\n",
      "2021-03-16 21:30:24.835508\n",
      "Saving 1954 data\n",
      "2021-03-16 21:30:24.853560\n",
      "Starting 1955 processing\n",
      "96 representatives in 1955\n",
      "2021-03-16 21:30:39.254906\n",
      "Saving 1955 data\n",
      "2021-03-16 21:30:39.264959\n",
      "Starting 1956 processing\n",
      "93 representatives in 1956\n",
      "2021-03-16 21:31:02.953286\n",
      "Saving 1956 data\n",
      "2021-03-16 21:31:02.961318\n",
      "Starting 1957 processing\n",
      "93 representatives in 1957\n",
      "2021-03-16 21:31:20.744080\n",
      "Saving 1957 data\n",
      "2021-03-16 21:31:20.754143\n",
      "Starting 1958 processing\n",
      "95 representatives in 1958\n",
      "2021-03-16 21:32:03.136460\n",
      "Saving 1958 data\n",
      "2021-03-16 21:32:03.154538\n",
      "Starting 1959 processing\n",
      "98 representatives in 1959\n",
      "2021-03-16 21:32:58.310010\n",
      "Saving 1959 data\n",
      "2021-03-16 21:32:58.330086\n",
      "Starting 1960 processing\n",
      "98 representatives in 1960\n",
      "2021-03-16 21:33:54.765827\n",
      "Saving 1960 data\n",
      "2021-03-16 21:33:54.777968\n",
      "Starting 1961 processing\n",
      "99 representatives in 1961\n",
      "2021-03-16 21:34:41.554312\n",
      "Saving 1961 data\n",
      "2021-03-16 21:34:41.574406\n",
      "Starting 1962 processing\n",
      "96 representatives in 1962\n",
      "2021-03-16 21:35:34.927744\n",
      "Saving 1962 data\n",
      "2021-03-16 21:35:34.945828\n",
      "Starting 1963 processing\n",
      "99 representatives in 1963\n",
      "2021-03-16 21:36:30.246867\n",
      "Saving 1963 data\n",
      "2021-03-16 21:36:30.266973\n",
      "Starting 1964 processing\n",
      "97 representatives in 1964\n",
      "2021-03-16 21:37:57.176030\n",
      "Saving 1964 data\n",
      "2021-03-16 21:37:57.196115\n",
      "Starting 1965 processing\n",
      "97 representatives in 1965\n",
      "2021-03-16 21:39:10.284923\n",
      "Saving 1965 data\n",
      "2021-03-16 21:39:10.305004\n",
      "Starting 1966 processing\n",
      "98 representatives in 1966\n",
      "2021-03-16 21:40:11.577382\n",
      "Saving 1966 data\n",
      "2021-03-16 21:40:11.597480\n",
      "Starting 1967 processing\n",
      "98 representatives in 1967\n",
      "2021-03-16 21:41:43.907822\n",
      "Saving 1967 data\n",
      "2021-03-16 21:41:43.927897\n",
      "Starting 1968 processing\n",
      "98 representatives in 1968\n",
      "2021-03-16 21:43:00.398168\n",
      "Saving 1968 data\n",
      "2021-03-16 21:43:00.416253\n",
      "Starting 1969 processing\n",
      "98 representatives in 1969\n",
      "2021-03-16 21:44:11.597154\n",
      "Saving 1969 data\n",
      "2021-03-16 21:44:11.607199\n",
      "Starting 1970 processing\n",
      "99 representatives in 1970\n",
      "2021-03-16 21:46:43.537803\n",
      "Saving 1970 data\n",
      "2021-03-16 21:46:43.575977\n",
      "Starting 1971 processing\n",
      "99 representatives in 1971\n",
      "2021-03-16 21:49:15.039241\n",
      "Saving 1971 data\n",
      "2021-03-16 21:49:15.069455\n",
      "Starting 1972 processing\n",
      "99 representatives in 1972\n",
      "2021-03-16 21:53:11.842917\n",
      "Saving 1972 data\n",
      "2021-03-16 21:53:11.873114\n",
      "Starting 1973 processing\n",
      "100 representatives in 1973\n",
      "2021-03-16 21:58:00.785001\n",
      "Saving 1973 data\n",
      "2021-03-16 21:58:00.825243\n",
      "Starting 1974 processing\n",
      "98 representatives in 1974\n",
      "2021-03-16 22:02:25.868710\n",
      "Saving 1974 data\n",
      "2021-03-16 22:02:25.908849\n",
      "Starting 1975 processing\n",
      "99 representatives in 1975\n",
      "2021-03-16 22:07:37.442377\n",
      "Saving 1975 data\n",
      "2021-03-16 22:07:37.482614\n",
      "Starting 1976 processing\n",
      "100 representatives in 1976\n",
      "2021-03-16 22:14:19.615764\n",
      "Saving 1976 data\n",
      "2021-03-16 22:14:19.666128\n",
      "Starting 1977 processing\n",
      "98 representatives in 1977\n",
      "2021-03-16 22:19:53.091893\n",
      "Saving 1977 data\n",
      "2021-03-16 22:19:53.132114\n",
      "Starting 1978 processing\n",
      "97 representatives in 1978\n",
      "2021-03-16 22:23:51.244349\n",
      "Saving 1978 data\n",
      "2021-03-16 22:23:51.274506\n",
      "Starting 1979 processing\n",
      "100 representatives in 1979\n",
      "2021-03-16 22:27:23.736915\n",
      "Saving 1979 data\n",
      "2021-03-16 22:27:23.777219\n",
      "Starting 1980 processing\n",
      "99 representatives in 1980\n",
      "2021-03-16 22:31:38.936593\n",
      "Saving 1980 data\n",
      "2021-03-16 22:31:38.968813\n",
      "Starting 1981 processing\n",
      "100 representatives in 1981\n",
      "2021-03-16 22:35:16.434247\n",
      "Saving 1981 data\n",
      "2021-03-16 22:35:16.476460\n",
      "Starting 1982 processing\n",
      "99 representatives in 1982\n",
      "2021-03-16 22:38:25.752749\n",
      "Saving 1982 data\n",
      "2021-03-16 22:38:25.790927\n",
      "Starting 1983 processing\n",
      "99 representatives in 1983\n",
      "2021-03-16 22:40:30.408220\n",
      "Saving 1983 data\n",
      "2021-03-16 22:40:30.438369\n",
      "Starting 1984 processing\n",
      "98 representatives in 1984\n",
      "2021-03-16 22:42:03.176649\n",
      "Saving 1984 data\n",
      "2021-03-16 22:42:03.186701\n",
      "Starting 1985 processing\n",
      "100 representatives in 1985\n",
      "2021-03-16 22:44:09.909021\n",
      "Saving 1985 data\n",
      "2021-03-16 22:44:09.929093\n",
      "Starting 1986 processing\n",
      "99 representatives in 1986\n",
      "2021-03-16 22:46:16.005716\n",
      "Saving 1986 data\n",
      "2021-03-16 22:46:16.031803\n",
      "Starting 1987 processing\n",
      "99 representatives in 1987\n",
      "2021-03-16 22:49:01.522093\n",
      "Saving 1987 data\n",
      "2021-03-16 22:49:01.552220\n",
      "Starting 1988 processing\n",
      "100 representatives in 1988\n",
      "2021-03-16 22:51:15.570276\n",
      "Saving 1988 data\n"
     ]
    }
   ],
   "source": [
    "for year in range(1941, 1988 + 1):\n",
    "    if (year % 2) == 0:\n",
    "        items_beg = int(govtrack2['Items 1'][govtrack2['Year'] == year - 1] + 1)\n",
    "        items_end = int(govtrack2['Items 2'][govtrack2['Year'] == year])\n",
    "        process_within_year(year, items_beg, items_end, govtrack2)\n",
    "    else:\n",
    "        items_beg = 1\n",
    "        items_end = int(govtrack2['Items 1'][govtrack2['Year'] == year])\n",
    "        process_within_year(year, items_beg, items_end, govtrack2)"
   ]
  },
  {
   "cell_type": "markdown",
   "metadata": {},
   "source": [
    "### Data analysis"
   ]
  },
  {
   "cell_type": "code",
   "execution_count": 6,
   "metadata": {},
   "outputs": [],
   "source": [
    "# Import packages\n",
    "from sklearn.decomposition import PCA\n",
    "from sklearn.preprocessing import StandardScaler\n",
    "import seaborn as sns\n",
    "from sklearn.cluster import KMeans\n",
    "from yellowbrick.cluster import KElbowVisualizer\n",
    "from warnings import simplefilter"
   ]
  },
  {
   "cell_type": "code",
   "execution_count": 14,
   "metadata": {
    "scrolled": false
   },
   "outputs": [
    {
     "name": "stdout",
     "output_type": "stream",
     "text": [
      "40.27336606960118 % variance explained by PC1\n",
      "15.851506166903947 % variance explained by PC2\n"
     ]
    },
    {
     "data": {
      "image/png": "[encoded data removed]",
      "text/plain": [
       "<Figure size 576x396 with 1 Axes>"
      ]
     },
     "metadata": {},
     "output_type": "display_data"
    }
   ],
   "source": [
    "# Principal component analysis\n",
    "year = 1947\n",
    "file = 'data_senate/data/' + str(year) +'.csv'\n",
    "data = pd.read_csv(file)\n",
    "\n",
    "pca = PCA(n_components = 0.95)\n",
    "pca.fit(data.iloc[:,2:].T)\n",
    "pca_data = pd.DataFrame(pca.components_)\n",
    "pca_data = pca_data.T\n",
    "pca_data.shape\n",
    "# Scatterplot of first two PCs with party as label\n",
    "sns.scatterplot(x = pca_data[0], y = pca_data[1], hue = data['Party'].values, palette = 'bright')\n",
    "print(pca.explained_variance_ratio_[0]*100, '% variance explained by PC1')\n",
    "print(pca.explained_variance_ratio_[1]*100, '% variance explained by PC2')"
   ]
  },
  {
   "cell_type": "code",
   "execution_count": null,
   "metadata": {},
   "outputs": [],
   "source": [
    "# Filter by Democrats\n",
    "democrats = data[(data['Party'] == 'D') | (data['Party'] == 'I')]\n",
    "# Most divisive issues within Democratic Party\n",
    "democrats.std().sort_values(ascending = False)[0:5]"
   ]
  },
  {
   "cell_type": "markdown",
   "metadata": {},
   "source": [
    "Because the contemporary American political system is so polarized, it is much more interesting to look at clusters within the two parties separately. Below, PCA is run on only Democratic (and Independent) senators."
   ]
  },
  {
   "cell_type": "code",
   "execution_count": null,
   "metadata": {},
   "outputs": [],
   "source": [
    "# Principal component analysis\n",
    "pca = PCA(n_components = 0.95)\n",
    "pca.fit(democrats.iloc[:,1:].T)\n",
    "pca_data = pd.DataFrame(pca.components_)\n",
    "pca_data = pca_data.T\n",
    "pca_data.shape"
   ]
  },
  {
   "cell_type": "markdown",
   "metadata": {},
   "source": [
    "Subjectively, at first glance, there appears to be one large \"mainstream\" cluster and then two distant subgroups."
   ]
  },
  {
   "cell_type": "code",
   "execution_count": null,
   "metadata": {
    "scrolled": false
   },
   "outputs": [],
   "source": [
    "# Scatterplot of first two PCs with party as label\n",
    "sns.scatterplot(x = pca_data[0], y = pca_data[1], hue = democrats['Party'].values, palette = 'bright')"
   ]
  },
  {
   "cell_type": "code",
   "execution_count": null,
   "metadata": {},
   "outputs": [],
   "source": [
    "print(pca.explained_variance_ratio_[0]*100, '% variance explained by PC1')\n",
    "print(pca.explained_variance_ratio_[1]*100, '% variance explained by PC2')"
   ]
  },
  {
   "cell_type": "code",
   "execution_count": null,
   "metadata": {},
   "outputs": [],
   "source": [
    "# Insert PCs\n",
    "democrats.insert(0, 'PC1', pca_data[0].values)\n",
    "democrats.insert(0, 'PC2', pca_data[1].values)"
   ]
  },
  {
   "cell_type": "code",
   "execution_count": null,
   "metadata": {},
   "outputs": [],
   "source": [
    "# Scale PCs before clustering\n",
    "democrats_small = democrats.iloc[:,:2]\n",
    "columns = democrats_small.columns\n",
    "index = democrats_small.index\n",
    "scaler = StandardScaler()\n",
    "democrats_small = scaler.fit_transform(democrats_small)\n",
    "democrats_small = pd.DataFrame(democrats_small)\n",
    "democrats_small.columns = columns\n",
    "democrats_small.index = index"
   ]
  },
  {
   "cell_type": "markdown",
   "metadata": {},
   "source": [
    "Use the elbow method to guide clustering (although in the end, I will personally choose a k value that makes the most sense to me)."
   ]
  },
  {
   "cell_type": "code",
   "execution_count": null,
   "metadata": {},
   "outputs": [],
   "source": [
    "# Find optimal number of clusters for K-Means\n",
    "from sklearn.cluster import KMeans\n",
    "from yellowbrick.cluster import KElbowVisualizer\n",
    "from warnings import simplefilter\n",
    "simplefilter(action = 'ignore', category = FutureWarning)\n",
    "\n",
    "model = KMeans(random_state = 20201124)\n",
    "visualizer = KElbowVisualizer(model, k = (2,10), timings = False)\n",
    "visualizer.fit(democrats_small[['PC1', 'PC2']])\n",
    "elbow_visualizer = visualizer.show()"
   ]
  },
  {
   "cell_type": "code",
   "execution_count": null,
   "metadata": {},
   "outputs": [],
   "source": [
    "# K-means clustering\n",
    "k_means = KMeans(n_clusters = 4, random_state = 20201124)\n",
    "k_means.fit(democrats_small[['PC1', 'PC2']])\n",
    "cluster = k_means.predict(democrats_small[['PC1', 'PC2']])\n",
    "democrats_small.insert(0, 'Cluster', cluster)"
   ]
  },
  {
   "cell_type": "markdown",
   "metadata": {},
   "source": [
    "With k = 4, Democratic senators appear to be neatly divided into two groups of \"mainstream\" senators, and the two subgroups mentioned earlier."
   ]
  },
  {
   "cell_type": "code",
   "execution_count": null,
   "metadata": {},
   "outputs": [],
   "source": [
    "# Scatterplot of first two PCs with cluster as label\n",
    "import seaborn as sns\n",
    "sns.scatterplot(x = democrats_small['PC1'], y = democrats_small['PC2'], \n",
    "                hue = democrats_small['Cluster'].values, palette = 'bright')"
   ]
  },
  {
   "cell_type": "markdown",
   "metadata": {},
   "source": [
    "The first subgroup picks out the senators known to be the most progressive."
   ]
  },
  {
   "cell_type": "code",
   "execution_count": null,
   "metadata": {},
   "outputs": [],
   "source": [
    "# Cluster 0 = progressive Democrats\n",
    "democrats_small[democrats_small['Cluster'] == 2]"
   ]
  },
  {
   "cell_type": "markdown",
   "metadata": {},
   "source": [
    "The second subgroup appears to pick out the [\"Red State Democrats\"](https://www.politico.com/news/2020/02/05/doug-jones-impeachment-vote-110818)"
   ]
  },
  {
   "cell_type": "code",
   "execution_count": null,
   "metadata": {},
   "outputs": [],
   "source": [
    "# Cluster 3 = Red State Democrats\n",
    "democrats_small[democrats_small['Cluster'] == 3]"
   ]
  },
  {
   "cell_type": "code",
   "execution_count": null,
   "metadata": {},
   "outputs": [],
   "source": [
    "# Insert cluster into main data frame\n",
    "democrats.insert(0, 'Cluster', cluster)"
   ]
  },
  {
   "cell_type": "markdown",
   "metadata": {},
   "source": [
    "Okay, now let's try the same thing for Republican senators."
   ]
  },
  {
   "cell_type": "code",
   "execution_count": null,
   "metadata": {},
   "outputs": [],
   "source": [
    "# Filter by Republicans\n",
    "republicans = data[data['Party'] == 'R']"
   ]
  },
  {
   "cell_type": "markdown",
   "metadata": {},
   "source": [
    "The most divisive issue within the Republican Party in 2020 was the Great American Outdoors Act, which aimed to provide funding for outdoors-related agencies."
   ]
  },
  {
   "cell_type": "code",
   "execution_count": null,
   "metadata": {},
   "outputs": [],
   "source": [
    "# Most divisive issues within Republican Party\n",
    "republicans.std().sort_values(ascending = False)[0:5]"
   ]
  },
  {
   "cell_type": "code",
   "execution_count": null,
   "metadata": {},
   "outputs": [],
   "source": [
    "# Principal component analysis\n",
    "pca = PCA(n_components = 0.95)\n",
    "pca.fit(republicans.iloc[:,1:].T)\n",
    "pca_data = pd.DataFrame(pca.components_)\n",
    "pca_data = pca_data.T\n",
    "pca_data.shape"
   ]
  },
  {
   "cell_type": "markdown",
   "metadata": {},
   "source": [
    "As with Democratic senators, there appears to be a \"mainstream\" cluster and two distant subgroups."
   ]
  },
  {
   "cell_type": "code",
   "execution_count": null,
   "metadata": {},
   "outputs": [],
   "source": [
    "# Scatterplot of first two PCs\n",
    "sns.scatterplot(x = pca_data[0], y = pca_data[1], palette = 'bright')"
   ]
  },
  {
   "cell_type": "code",
   "execution_count": null,
   "metadata": {},
   "outputs": [],
   "source": [
    "print(pca.explained_variance_ratio_[0]*100, '% variance explained by PC1')\n",
    "print(pca.explained_variance_ratio_[1]*100, '% variance explained by PC2')"
   ]
  },
  {
   "cell_type": "code",
   "execution_count": null,
   "metadata": {},
   "outputs": [],
   "source": [
    "# Insert PCs\n",
    "republicans.insert(0, 'PC1', pca_data[0].values)\n",
    "republicans.insert(0, 'PC2', pca_data[1].values)"
   ]
  },
  {
   "cell_type": "code",
   "execution_count": null,
   "metadata": {},
   "outputs": [],
   "source": [
    "# Scale PCs before clustering\n",
    "republicans_small = republicans.iloc[:,:2]\n",
    "columns = republicans_small.columns\n",
    "index = republicans_small.index\n",
    "scaler = StandardScaler()\n",
    "republicans_small = scaler.fit_transform(republicans_small)\n",
    "republicans_small = pd.DataFrame(republicans_small)\n",
    "republicans_small.columns = columns\n",
    "republicans_small.index = index"
   ]
  },
  {
   "cell_type": "code",
   "execution_count": null,
   "metadata": {},
   "outputs": [],
   "source": [
    "# Find optimal number of clusters for K-Means\n",
    "simplefilter(action = 'ignore', category = FutureWarning)\n",
    "\n",
    "model = KMeans(random_state = 20201124)\n",
    "visualizer = KElbowVisualizer(model, k = (2,10), timings = False)\n",
    "visualizer.fit(republicans_small[['PC1', 'PC2']])\n",
    "elbow_visualizer = visualizer.show()"
   ]
  },
  {
   "cell_type": "code",
   "execution_count": null,
   "metadata": {},
   "outputs": [],
   "source": [
    "# K-means clustering\n",
    "k_means = KMeans(n_clusters = 4, random_state = 20201124)\n",
    "k_means.fit(republicans_small[['PC1', 'PC2']])\n",
    "cluster = k_means.predict(republicans_small[['PC1', 'PC2']])\n",
    "republicans_small.insert(0, 'Cluster', cluster)"
   ]
  },
  {
   "cell_type": "markdown",
   "metadata": {},
   "source": [
    "k = 4 nicely picks out the two subgroups and divides the mainstream cluster into two halves."
   ]
  },
  {
   "cell_type": "code",
   "execution_count": null,
   "metadata": {},
   "outputs": [],
   "source": [
    "# Scatterplot of first two PCs with cluster as label\n",
    "sns.scatterplot(x = republicans_small['PC1'], y = republicans_small['PC2'], \n",
    "                hue = republicans_small['Cluster'].values, palette = 'bright')"
   ]
  },
  {
   "cell_type": "markdown",
   "metadata": {},
   "source": [
    "The first subgroup appears to pick out [the more liberal Republicans who took a firm stance against Trump](https://www.politico.com/news/2020/01/31/alexander-murkowski-collins-romney-impeachment-trial-110138)"
   ]
  },
  {
   "cell_type": "code",
   "execution_count": null,
   "metadata": {},
   "outputs": [],
   "source": [
    "# Cluster 2 =  liberal Republicans\n",
    "republicans_small[republicans_small['Cluster'] == 0]"
   ]
  },
  {
   "cell_type": "markdown",
   "metadata": {},
   "source": [
    "The other subgroup appears to pick out the [radically conservative Tea Party members](https://www.politico.com/story/2011/01/4th-senator-joins-tea-party-caucus-048302)"
   ]
  },
  {
   "cell_type": "code",
   "execution_count": null,
   "metadata": {},
   "outputs": [],
   "source": [
    "# Cluster 3 = Tea Party Republicans\n",
    "republicans_small[republicans_small['Cluster'] == 2]"
   ]
  },
  {
   "cell_type": "code",
   "execution_count": null,
   "metadata": {},
   "outputs": [],
   "source": [
    "# Insert cluster into main data frame\n",
    "republicans.insert(0, 'Cluster', cluster)"
   ]
  },
  {
   "cell_type": "markdown",
   "metadata": {},
   "source": [
    "### Limitations\n",
    "One major limitation is that, as much as I tried, I could not find a meaningful interpretation of what PC1 and PC2 represent for both the Democratic and Republican parties. While it does appear to provide separation and aid in picking out the more fringe senators (e.g. progressives, Tea Partiers, etc.), it is very difficult to arrive at a sound conclusion as to what it actually represents. This is in comparison to PC1 for the Senate as a whole, which very obviously represents Democrats vs. Republicans.\n",
    "### Future directions\n",
    "In this project, I focus on the current year 2020, but in the future, it would be interesting to run analyses on multiple years and do a comparative analysis with regards to the degree of polarization, the most polarizing issues, the cluster structure, etc.\n",
    "### Conclusion\n",
    "I saw [this Tweet](https://twitter.com/seanjtaylor/status/1331426161356808192) today, and found it to encapsulate my motivation for pursuing this project: \"Perhaps my most controversial opinion: In machine learning education, the focus on supervised learning and particularly on classification problems gives people a totally misguided idea about how to use data to solve real problems.\" I wanted to avoid the mostly banal Kaggle/UCI datasets and build a pipeline to gather my own data. Congressional data does not lend itself to sophisticated machine learning classification/regression models, but I believe that by applying PCA + clustering to it, I learned a lot about the structure of our political system - data-driven knowledge that could not be attained just by reading the news. This pipeline could be used to gather data on any Congress, all the way back to the first Congress of 1789, and could provide the basis for very interesting quantitative comparisons of how American politics has evolved over time."
   ]
  }
 ],
 "metadata": {
  "kernelspec": {
   "display_name": "Python 3",
   "language": "python",
   "name": "python3"
  },
  "language_info": {
   "codemirror_mode": {
    "name": "ipython",
    "version": 3
   },
   "file_extension": ".py",
   "mimetype": "text/x-python",
   "name": "python",
   "nbconvert_exporter": "python",
   "pygments_lexer": "ipython3",
   "version": "3.8.8"
  }
 },
 "nbformat": 4,
 "nbformat_minor": 4
}
