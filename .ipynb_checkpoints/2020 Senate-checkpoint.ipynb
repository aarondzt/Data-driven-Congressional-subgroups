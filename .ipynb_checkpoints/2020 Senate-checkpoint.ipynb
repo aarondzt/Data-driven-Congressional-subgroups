{
 "cells": [
  {
   "cell_type": "markdown",
   "metadata": {},
   "source": [
    "### Overview\n",
    "Congressional voting patterns go beyond Democrat vs. Republican party lines. In this project, I \"scrape\" voting record data from GovTrack, extract all the representatives and their votes, and perform clustering in order to determine subgroups within the Democratic and Republican parties. Interestingly, for both parties, there is a \"mainstream\" voting cluster and distant clusters that represent smaller factions within the parties. I performed this analysis for both the House of Representatives and the Senate, but I decided to focus my analysis on the Senate because there are fewer members, and those members are more widely known.\n",
    "### Goals\n",
    "My main goal was to build a data extraction pipeline for GovTrack that could be used to run interesting analyses on Congressional voting patterns from any year. \n",
    "### Data\n",
    "Data was \"scraped\" from https://www.govtrack.us/congress/votes. On this page are all the votes for both chambers of Congress that can be filtered by year, chamber, category, etc. In each vote's page, there is a .csv file that contains the names of all the present representatives and their vote."
   ]
  },
  {
   "cell_type": "markdown",
   "metadata": {},
   "source": [
    "### Methods\n",
    "Note: Many code cells are commented out because they take a long time to run.\n",
    "First, I \"scraped\" voting records from https://www.govtrack.us/congress/votes. \"Scraped\" is in quotations because BeautifulSoup could not detect the relevant information on the page for some reason. However, I noticed a pattern that each Congress (e.g. 116th Congress of 2020) is represented as \"votes/116-2020,\" the Senate is represented as \"s,\" and each vote is numbered numerically from the first to the last (e.g. s1-s239). This way, I could easily run a for loop to download the .csv of each vote from https://www.govtrack.us/congress/votes/116-2020/s[x]/export/csv. "
   ]
  },
  {
   "cell_type": "code",
   "execution_count": 1,
   "metadata": {},
   "outputs": [],
   "source": [
    "# # Download voting records\n",
    "# base = 'https://www.govtrack.us/congress/votes/116-2020/'\n",
    "# import urllib.request\n",
    "# for x in range(1, 240):\n",
    "#     x = str(x)\n",
    "#     url = base + 's' + x + '/export/csv'\n",
    "#     file = x + '.csv'\n",
    "#     urllib.request.urlretrieve(url, file)"
   ]
  },
  {
   "cell_type": "markdown",
   "metadata": {},
   "source": [
    "The name of each bill was extracted from each .csv and split along ' - ' to make the data more readable."
   ]
  },
  {
   "cell_type": "code",
   "execution_count": 2,
   "metadata": {},
   "outputs": [
    {
     "data": {
      "text/plain": [
       "['Motion to Invoke Cloture on Jovita Carranza',\n",
       " 'On the Nomination PN1039: Jovita Carranza',\n",
       " 'Motion to Invoke Cloture: Matthew H. Solomsom to be a Judge for the U.S. Court of Federal Claims: Matthew H. Solomson',\n",
       " 'Motion to Invoke Cloture: Eleni Maria Roumel to be a Judge of the U.S. Court of Federal Claims: Eleni Maria Roumel',\n",
       " 'Motion to Invoke Cloture: Michael George DeSombre to be Ambassador of the United States to the Kingdom of Thailand: Michael George DeSombre']"
      ]
     },
     "execution_count": 2,
     "metadata": {},
     "output_type": "execute_result"
    }
   ],
   "source": [
    "# Extract bills\n",
    "import pandas as pd\n",
    "bills = []\n",
    "for x in range(1, 240):\n",
    "    file = 'data_senate/' + str(x) + '.csv'\n",
    "    bills_data = pd.read_csv(file)\n",
    "    bill = bills_data.columns[0]\n",
    "    bill = bill.split(' - ')[1]\n",
    "    bills.append(bill)\n",
    "bills[0:5]"
   ]
  },
  {
   "cell_type": "markdown",
   "metadata": {},
   "source": [
    "Bill number, senator name, their vote, and their party was extracted from each .csv and stored in parallel lists."
   ]
  },
  {
   "cell_type": "code",
   "execution_count": 3,
   "metadata": {},
   "outputs": [],
   "source": [
    "# # Extract votes\n",
    "# bill_nos = []\n",
    "# names = []\n",
    "# votes = []\n",
    "# party = []\n",
    "# for x in range(1, 240):\n",
    "#     file = 'data_senate/' + str(x) + '.csv'\n",
    "#     votes_data = pd.read_csv(file, skiprows = 1)\n",
    "#     length = len(votes_data)\n",
    "#     for y in range (0, length):\n",
    "#         bill_nos.append(x)\n",
    "#         names.append(votes_data.iloc[y]['name'])\n",
    "#         votes.append(votes_data.iloc[y]['vote'])\n",
    "#         party.append(votes_data.iloc[y]['party'])"
   ]
  },
  {
   "cell_type": "markdown",
   "metadata": {},
   "source": [
    "Because the body of representatives changes over time (in the House), set was used to extract the \"unique\" representatives over the entire year."
   ]
  },
  {
   "cell_type": "code",
   "execution_count": 4,
   "metadata": {},
   "outputs": [],
   "source": [
    "# # Get unique representatives\n",
    "# unique_names = set(names)\n",
    "# unique_names = list(unique_names)"
   ]
  },
  {
   "cell_type": "markdown",
   "metadata": {},
   "source": [
    "A data frame is created to combine all of the above data."
   ]
  },
  {
   "cell_type": "code",
   "execution_count": 5,
   "metadata": {},
   "outputs": [],
   "source": [
    "# # Create data frame of all votes\n",
    "# all_votes = pd.DataFrame({'BillNo': bill_nos, 'Name': names, 'Vote': votes, 'Party': party})"
   ]
  },
  {
   "cell_type": "markdown",
   "metadata": {},
   "source": [
    "A data frame is created to contain the final data, with each row representing a representative and each column representing a vote."
   ]
  },
  {
   "cell_type": "code",
   "execution_count": 6,
   "metadata": {},
   "outputs": [],
   "source": [
    "# # Create final data frame for analysis\n",
    "# data = pd.DataFrame(columns = range(1, 240))\n",
    "# data.insert(0, 'Representative', unique_names)\n",
    "# data.index = unique_names\n",
    "# data = data.drop('Representative', axis = 1)"
   ]
  },
  {
   "cell_type": "markdown",
   "metadata": {},
   "source": [
    "Using both data frames, data is extracted from the all_votes data frame and appropriately placed into the final data frame. An if-else function is used to deal with cases where an existing representative was not in Congress for a vote (due to election cycle, resignation, etc.)."
   ]
  },
  {
   "cell_type": "code",
   "execution_count": 7,
   "metadata": {},
   "outputs": [],
   "source": [
    "# # Fill in final data frame\n",
    "# for representative in unique_names:\n",
    "#     for bill in range(1, 240):\n",
    "#         rep_record = all_votes[all_votes['Name'] == representative]\n",
    "#         if bill in list(rep_record['BillNo']):\n",
    "#             rep_voteonbill = rep_record[rep_record['BillNo'] == bill]['Vote'].iloc[0]\n",
    "#             data.loc[representative][bill] = rep_voteonbill\n",
    "#         else:\n",
    "#             data.loc[representative][bill] = None"
   ]
  },
  {
   "cell_type": "markdown",
   "metadata": {},
   "source": [
    "This final data frame is saved as a .csv to save time in the future."
   ]
  },
  {
   "cell_type": "code",
   "execution_count": 8,
   "metadata": {},
   "outputs": [],
   "source": [
    "# # Save to csv before naming columns (commas in bill names mess up .csv)\n",
    "# data.to_csv('data_senate/data.csv')"
   ]
  },
  {
   "cell_type": "code",
   "execution_count": 9,
   "metadata": {},
   "outputs": [
    {
     "data": {
      "text/html": [
       "<div>\n",
       "<style scoped>\n",
       "    .dataframe tbody tr th:only-of-type {\n",
       "        vertical-align: middle;\n",
       "    }\n",
       "\n",
       "    .dataframe tbody tr th {\n",
       "        vertical-align: top;\n",
       "    }\n",
       "\n",
       "    .dataframe thead th {\n",
       "        text-align: right;\n",
       "    }\n",
       "</style>\n",
       "<table border=\"1\" class=\"dataframe\">\n",
       "  <thead>\n",
       "    <tr style=\"text-align: right;\">\n",
       "      <th></th>\n",
       "      <th>1</th>\n",
       "      <th>2</th>\n",
       "      <th>3</th>\n",
       "      <th>4</th>\n",
       "      <th>5</th>\n",
       "      <th>6</th>\n",
       "      <th>7</th>\n",
       "      <th>8</th>\n",
       "      <th>9</th>\n",
       "      <th>10</th>\n",
       "      <th>...</th>\n",
       "      <th>230</th>\n",
       "      <th>231</th>\n",
       "      <th>232</th>\n",
       "      <th>233</th>\n",
       "      <th>234</th>\n",
       "      <th>235</th>\n",
       "      <th>236</th>\n",
       "      <th>237</th>\n",
       "      <th>238</th>\n",
       "      <th>239</th>\n",
       "    </tr>\n",
       "  </thead>\n",
       "  <tbody>\n",
       "    <tr>\n",
       "      <th>Sen. Cory Gardner [R]</th>\n",
       "      <td>Yea</td>\n",
       "      <td>Yea</td>\n",
       "      <td>Yea</td>\n",
       "      <td>Yea</td>\n",
       "      <td>Yea</td>\n",
       "      <td>Yea</td>\n",
       "      <td>Yea</td>\n",
       "      <td>Yea</td>\n",
       "      <td>Yea</td>\n",
       "      <td>Yea</td>\n",
       "      <td>...</td>\n",
       "      <td>Yea</td>\n",
       "      <td>Yea</td>\n",
       "      <td>Yea</td>\n",
       "      <td>Yea</td>\n",
       "      <td>Yea</td>\n",
       "      <td>Yea</td>\n",
       "      <td>Not Voting</td>\n",
       "      <td>Not Voting</td>\n",
       "      <td>Not Voting</td>\n",
       "      <td>Not Voting</td>\n",
       "    </tr>\n",
       "    <tr>\n",
       "      <th>Sen. Kevin Cramer [R]</th>\n",
       "      <td>Yea</td>\n",
       "      <td>Yea</td>\n",
       "      <td>Yea</td>\n",
       "      <td>Yea</td>\n",
       "      <td>Yea</td>\n",
       "      <td>Yea</td>\n",
       "      <td>Yea</td>\n",
       "      <td>Yea</td>\n",
       "      <td>Yea</td>\n",
       "      <td>Yea</td>\n",
       "      <td>...</td>\n",
       "      <td>Yea</td>\n",
       "      <td>Yea</td>\n",
       "      <td>Yea</td>\n",
       "      <td>Yea</td>\n",
       "      <td>Yea</td>\n",
       "      <td>Yea</td>\n",
       "      <td>Yea</td>\n",
       "      <td>Yea</td>\n",
       "      <td>Yea</td>\n",
       "      <td>Yea</td>\n",
       "    </tr>\n",
       "    <tr>\n",
       "      <th>Sen. Richard Blumenthal [D]</th>\n",
       "      <td>Yea</td>\n",
       "      <td>Yea</td>\n",
       "      <td>Yea</td>\n",
       "      <td>Nay</td>\n",
       "      <td>Nay</td>\n",
       "      <td>Yea</td>\n",
       "      <td>Nay</td>\n",
       "      <td>Yea</td>\n",
       "      <td>Nay</td>\n",
       "      <td>Nay</td>\n",
       "      <td>...</td>\n",
       "      <td>Nay</td>\n",
       "      <td>Nay</td>\n",
       "      <td>Nay</td>\n",
       "      <td>Nay</td>\n",
       "      <td>Nay</td>\n",
       "      <td>Nay</td>\n",
       "      <td>Nay</td>\n",
       "      <td>Nay</td>\n",
       "      <td>Nay</td>\n",
       "      <td>Nay</td>\n",
       "    </tr>\n",
       "    <tr>\n",
       "      <th>Sen. Thomas Carper [D]</th>\n",
       "      <td>Yea</td>\n",
       "      <td>Yea</td>\n",
       "      <td>Yea</td>\n",
       "      <td>Nay</td>\n",
       "      <td>Nay</td>\n",
       "      <td>Yea</td>\n",
       "      <td>Nay</td>\n",
       "      <td>Yea</td>\n",
       "      <td>Nay</td>\n",
       "      <td>Nay</td>\n",
       "      <td>...</td>\n",
       "      <td>Nay</td>\n",
       "      <td>Nay</td>\n",
       "      <td>Nay</td>\n",
       "      <td>Nay</td>\n",
       "      <td>Nay</td>\n",
       "      <td>Not Voting</td>\n",
       "      <td>Nay</td>\n",
       "      <td>Nay</td>\n",
       "      <td>Nay</td>\n",
       "      <td>Nay</td>\n",
       "    </tr>\n",
       "    <tr>\n",
       "      <th>Sen. Debbie Stabenow [D]</th>\n",
       "      <td>Yea</td>\n",
       "      <td>Yea</td>\n",
       "      <td>Yea</td>\n",
       "      <td>Nay</td>\n",
       "      <td>Nay</td>\n",
       "      <td>Yea</td>\n",
       "      <td>Nay</td>\n",
       "      <td>Yea</td>\n",
       "      <td>Nay</td>\n",
       "      <td>Nay</td>\n",
       "      <td>...</td>\n",
       "      <td>Nay</td>\n",
       "      <td>Nay</td>\n",
       "      <td>Nay</td>\n",
       "      <td>Nay</td>\n",
       "      <td>Nay</td>\n",
       "      <td>Nay</td>\n",
       "      <td>Nay</td>\n",
       "      <td>Nay</td>\n",
       "      <td>Nay</td>\n",
       "      <td>Nay</td>\n",
       "    </tr>\n",
       "  </tbody>\n",
       "</table>\n",
       "<p>5 rows × 239 columns</p>\n",
       "</div>"
      ],
      "text/plain": [
       "                               1    2    3    4    5    6    7    8    9   10  \\\n",
       "Sen. Cory Gardner [R]        Yea  Yea  Yea  Yea  Yea  Yea  Yea  Yea  Yea  Yea   \n",
       "Sen. Kevin Cramer [R]        Yea  Yea  Yea  Yea  Yea  Yea  Yea  Yea  Yea  Yea   \n",
       "Sen. Richard Blumenthal [D]  Yea  Yea  Yea  Nay  Nay  Yea  Nay  Yea  Nay  Nay   \n",
       "Sen. Thomas Carper [D]       Yea  Yea  Yea  Nay  Nay  Yea  Nay  Yea  Nay  Nay   \n",
       "Sen. Debbie Stabenow [D]     Yea  Yea  Yea  Nay  Nay  Yea  Nay  Yea  Nay  Nay   \n",
       "\n",
       "                             ...  230  231  232  233  234         235  \\\n",
       "Sen. Cory Gardner [R]        ...  Yea  Yea  Yea  Yea  Yea         Yea   \n",
       "Sen. Kevin Cramer [R]        ...  Yea  Yea  Yea  Yea  Yea         Yea   \n",
       "Sen. Richard Blumenthal [D]  ...  Nay  Nay  Nay  Nay  Nay         Nay   \n",
       "Sen. Thomas Carper [D]       ...  Nay  Nay  Nay  Nay  Nay  Not Voting   \n",
       "Sen. Debbie Stabenow [D]     ...  Nay  Nay  Nay  Nay  Nay         Nay   \n",
       "\n",
       "                                    236         237         238         239  \n",
       "Sen. Cory Gardner [R]        Not Voting  Not Voting  Not Voting  Not Voting  \n",
       "Sen. Kevin Cramer [R]               Yea         Yea         Yea         Yea  \n",
       "Sen. Richard Blumenthal [D]         Nay         Nay         Nay         Nay  \n",
       "Sen. Thomas Carper [D]              Nay         Nay         Nay         Nay  \n",
       "Sen. Debbie Stabenow [D]            Nay         Nay         Nay         Nay  \n",
       "\n",
       "[5 rows x 239 columns]"
      ]
     },
     "execution_count": 9,
     "metadata": {},
     "output_type": "execute_result"
    }
   ],
   "source": [
    "# Load csv to save time\n",
    "import pandas as pd\n",
    "data = pd.read_csv('data_senate/data.csv', index_col = 0)\n",
    "data.head()"
   ]
  },
  {
   "cell_type": "code",
   "execution_count": 10,
   "metadata": {},
   "outputs": [],
   "source": [
    "# Name columns\n",
    "data.columns = bills"
   ]
  },
  {
   "cell_type": "markdown",
   "metadata": {},
   "source": [
    "Data was simply quantified with positive votes as 1, negative votes as 0, and neutral votes (Not Voting, etc.) as 0.5."
   ]
  },
  {
   "cell_type": "code",
   "execution_count": 11,
   "metadata": {},
   "outputs": [],
   "source": [
    "# Quantify data\n",
    "data = data.replace('Nay', 0)\n",
    "data = data.replace('No', 0)\n",
    "data = data.replace('Yea', 1)\n",
    "data = data.replace('Aye', 1)\n",
    "data = data.replace('Not Voting', 0.5)\n",
    "data = data.replace('Present', 0.5)\n",
    "data = data.replace('Not Guilty', 0)\n",
    "data = data.replace('Guilty', 1)"
   ]
  },
  {
   "cell_type": "markdown",
   "metadata": {},
   "source": [
    "Party is extracted from each representative's row and placed into its own column."
   ]
  },
  {
   "cell_type": "code",
   "execution_count": 12,
   "metadata": {},
   "outputs": [],
   "source": [
    "# Extract and insert party\n",
    "import re\n",
    "party = []\n",
    "for representative in data.index:\n",
    "    res = re.findall(r'\\[.*?\\]', representative)\n",
    "    res = res[0][1]\n",
    "    party.append(res)\n",
    "data.insert(0, 'Party', party)"
   ]
  },
  {
   "cell_type": "markdown",
   "metadata": {},
   "source": [
    "PCA is used to reduce the dimensionality of the data for clustering."
   ]
  },
  {
   "cell_type": "code",
   "execution_count": 13,
   "metadata": {},
   "outputs": [
    {
     "data": {
      "text/plain": [
       "(100, 33)"
      ]
     },
     "execution_count": 13,
     "metadata": {},
     "output_type": "execute_result"
    }
   ],
   "source": [
    "# Principal component analysis\n",
    "from sklearn.decomposition import PCA\n",
    "pca = PCA(n_components = 0.95)\n",
    "pca.fit(data.iloc[:,1:].T)\n",
    "pca_data = pd.DataFrame(pca.components_)\n",
    "pca_data = pca_data.T\n",
    "pca_data.shape"
   ]
  },
  {
   "cell_type": "markdown",
   "metadata": {},
   "source": [
    "Below, you can see that the first PC clearly represents party. The second PC appears to represent some form of variation within the Democratic Party."
   ]
  },
  {
   "cell_type": "code",
   "execution_count": 14,
   "metadata": {},
   "outputs": [
    {
     "data": {
      "text/plain": [
       "<AxesSubplot:xlabel='0', ylabel='1'>"
      ]
     },
     "execution_count": 14,
     "metadata": {},
     "output_type": "execute_result"
    },
    {
     "data": {
      "image/png": "[encoded data removed]",
      "text/plain": [
       "<Figure size 432x288 with 1 Axes>"
      ]
     },
     "metadata": {
      "needs_background": "light"
     },
     "output_type": "display_data"
    }
   ],
   "source": [
    "# Scatterplot of first two PCs with party as label\n",
    "import seaborn as sns\n",
    "sns.scatterplot(x = pca_data[0], y = pca_data[1], hue = data['Party'].values)"
   ]
  },
  {
   "cell_type": "code",
   "execution_count": 15,
   "metadata": {},
   "outputs": [
    {
     "name": "stdout",
     "output_type": "stream",
     "text": [
      "54.06979320568357 % variance explained by PC1\n",
      "18.811559536650897 % variance explained by PC2\n"
     ]
    }
   ],
   "source": [
    "print(pca.explained_variance_ratio_[0]*100, '% variance explained by PC1')\n",
    "print(pca.explained_variance_ratio_[1]*100, '% variance explained by PC2')"
   ]
  },
  {
   "cell_type": "code",
   "execution_count": 16,
   "metadata": {},
   "outputs": [],
   "source": [
    "# Filter by Democrats\n",
    "democrats = data[(data['Party'] == 'D') | (data['Party'] == 'I')]"
   ]
  },
  {
   "cell_type": "markdown",
   "metadata": {},
   "source": [
    "In 2020, among Democrats, the most divisive vote was related to reducing the Pentagon budget, spearheaded by Democratic Socialist Bernie Sanders."
   ]
  },
  {
   "cell_type": "code",
   "execution_count": 17,
   "metadata": {},
   "outputs": [
    {
     "data": {
      "text/plain": [
       "S.Amdt. 1788 (Sanders) to S. 4049: To reduce the bloated Pentagon budget by 10 percent and invest that money in jobs         0.505291\n",
       "Motion to Invoke Cloture: Derek Kan to be Deputy Director of the Office of Management and Budget: Derek Kan                  0.499537\n",
       "On the Nomination PN1431: Thomas T. Cullen                                                                                   0.488773\n",
       "On the Nomination PN1438: Anna M. Manasco                                                                                    0.483301\n",
       "Motion to Invoke Cloture: Anna M. Manasco to be U.S. District Judge for the Northern District of Alabama: Anna M. Manasco    0.482343\n",
       "dtype: float64"
      ]
     },
     "execution_count": 17,
     "metadata": {},
     "output_type": "execute_result"
    }
   ],
   "source": [
    "# Most divisive issues within Democratic Party\n",
    "democrats.std().sort_values(ascending = False)[0:5]"
   ]
  },
  {
   "cell_type": "markdown",
   "metadata": {},
   "source": [
    "Because the contemporary American political system is so polarized, it is much more interesting to look at clusters within the two parties separately. Below, PCA is run on only Democratic (and Independent) senators."
   ]
  },
  {
   "cell_type": "code",
   "execution_count": 18,
   "metadata": {},
   "outputs": [
    {
     "data": {
      "text/plain": [
       "(47, 20)"
      ]
     },
     "execution_count": 18,
     "metadata": {},
     "output_type": "execute_result"
    }
   ],
   "source": [
    "# Principal component analysis\n",
    "from sklearn.decomposition import PCA\n",
    "pca = PCA(n_components = 0.95)\n",
    "pca.fit(democrats.iloc[:,1:].T)\n",
    "pca_data = pd.DataFrame(pca.components_)\n",
    "pca_data = pca_data.T\n",
    "pca_data.shape"
   ]
  },
  {
   "cell_type": "markdown",
   "metadata": {},
   "source": [
    "Subjectively, at first glance, there appears to be one large \"mainstream\" cluster and then two distant subgroups."
   ]
  },
  {
   "cell_type": "code",
   "execution_count": 19,
   "metadata": {
    "scrolled": false
   },
   "outputs": [
    {
     "data": {
      "text/plain": [
       "<AxesSubplot:xlabel='0', ylabel='1'>"
      ]
     },
     "execution_count": 19,
     "metadata": {},
     "output_type": "execute_result"
    },
    {
     "data": {
      "image/png": "[encoded data removed]",
      "text/plain": [
       "<Figure size 432x288 with 1 Axes>"
      ]
     },
     "metadata": {
      "needs_background": "light"
     },
     "output_type": "display_data"
    }
   ],
   "source": [
    "# Scatterplot of first two PCs with party as label\n",
    "import seaborn as sns\n",
    "sns.scatterplot(x = pca_data[0], y = pca_data[1], hue = democrats['Party'].values, palette = 'bright')"
   ]
  },
  {
   "cell_type": "code",
   "execution_count": 20,
   "metadata": {},
   "outputs": [
    {
     "name": "stdout",
     "output_type": "stream",
     "text": [
      "71.17895920976756 % variance explained by PC1\n",
      "8.411956501870328 % variance explained by PC2\n"
     ]
    }
   ],
   "source": [
    "print(pca.explained_variance_ratio_[0]*100, '% variance explained by PC1')\n",
    "print(pca.explained_variance_ratio_[1]*100, '% variance explained by PC2')"
   ]
  },
  {
   "cell_type": "code",
   "execution_count": 21,
   "metadata": {},
   "outputs": [],
   "source": [
    "# Insert PCs\n",
    "democrats.insert(0, 'PC1', pca_data[0].values)\n",
    "democrats.insert(0, 'PC2', pca_data[1].values)"
   ]
  },
  {
   "cell_type": "code",
   "execution_count": 22,
   "metadata": {},
   "outputs": [],
   "source": [
    "# Scale PCs before clustering\n",
    "from sklearn.preprocessing import StandardScaler\n",
    "\n",
    "democrats_small = democrats.iloc[:,:2]\n",
    "columns = democrats_small.columns\n",
    "index = democrats_small.index\n",
    "scaler = StandardScaler()\n",
    "democrats_small = scaler.fit_transform(democrats_small)\n",
    "democrats_small = pd.DataFrame(democrats_small)\n",
    "democrats_small.columns = columns\n",
    "democrats_small.index = index"
   ]
  },
  {
   "cell_type": "markdown",
   "metadata": {},
   "source": [
    "Use the elbow method to guide clustering (although in the end, I will personally choose a k value that makes the most sense to me)."
   ]
  },
  {
   "cell_type": "code",
   "execution_count": 23,
   "metadata": {},
   "outputs": [
    {
     "name": "stderr",
     "output_type": "stream",
     "text": [
      "C:\\Users\\HP\\anaconda3\\lib\\site-packages\\sklearn\\utils\\deprecation.py:143: FutureWarning: The sklearn.metrics.classification module is  deprecated in version 0.22 and will be removed in version 0.24. The corresponding classes / functions should instead be imported from sklearn.metrics. Anything that cannot be imported from sklearn.metrics is now part of the private API.\n",
      "  warnings.warn(message, FutureWarning)\n"
     ]
    },
    {
     "data": {
      "image/png": "[encoded data removed]",
      "text/plain": [
       "<Figure size 576x396 with 1 Axes>"
      ]
     },
     "metadata": {},
     "output_type": "display_data"
    }
   ],
   "source": [
    "# Find optimal number of clusters for K-Means\n",
    "from sklearn.cluster import KMeans\n",
    "from yellowbrick.cluster import KElbowVisualizer\n",
    "from warnings import simplefilter\n",
    "simplefilter(action = 'ignore', category = FutureWarning)\n",
    "\n",
    "model = KMeans(random_state = 20201124)\n",
    "visualizer = KElbowVisualizer(model, k = (2,10), timings = False)\n",
    "visualizer.fit(democrats_small[['PC1', 'PC2']])\n",
    "elbow_visualizer = visualizer.show()"
   ]
  },
  {
   "cell_type": "code",
   "execution_count": 24,
   "metadata": {},
   "outputs": [],
   "source": [
    "# K-means clustering\n",
    "k_means = KMeans(n_clusters = 4, random_state = 20201124)\n",
    "k_means.fit(democrats_small[['PC1', 'PC2']])\n",
    "cluster = k_means.predict(democrats_small[['PC1', 'PC2']])\n",
    "democrats_small.insert(0, 'Cluster', cluster)"
   ]
  },
  {
   "cell_type": "markdown",
   "metadata": {},
   "source": [
    "With k = 4, Democratic senators appear to be neatly divided into two groups of \"mainstream\" senators, and the two subgroups mentioned earlier."
   ]
  },
  {
   "cell_type": "code",
   "execution_count": 25,
   "metadata": {},
   "outputs": [
    {
     "data": {
      "text/plain": [
       "<AxesSubplot:xlabel='PC1', ylabel='PC2'>"
      ]
     },
     "execution_count": 25,
     "metadata": {},
     "output_type": "execute_result"
    },
    {
     "data": {
      "image/png": "[encoded data removed]",
      "text/plain": [
       "<Figure size 576x396 with 1 Axes>"
      ]
     },
     "metadata": {},
     "output_type": "display_data"
    }
   ],
   "source": [
    "# Scatterplot of first two PCs with cluster as label\n",
    "import seaborn as sns\n",
    "sns.scatterplot(x = democrats_small['PC1'], y = democrats_small['PC2'], \n",
    "                hue = democrats_small['Cluster'].values, palette = 'bright')"
   ]
  },
  {
   "cell_type": "markdown",
   "metadata": {},
   "source": [
    "The first subgroup picks out the senators known to be the most progressive."
   ]
  },
  {
   "cell_type": "code",
   "execution_count": 26,
   "metadata": {},
   "outputs": [
    {
     "data": {
      "text/html": [
       "<div>\n",
       "<style scoped>\n",
       "    .dataframe tbody tr th:only-of-type {\n",
       "        vertical-align: middle;\n",
       "    }\n",
       "\n",
       "    .dataframe tbody tr th {\n",
       "        vertical-align: top;\n",
       "    }\n",
       "\n",
       "    .dataframe thead th {\n",
       "        text-align: right;\n",
       "    }\n",
       "</style>\n",
       "<table border=\"1\" class=\"dataframe\">\n",
       "  <thead>\n",
       "    <tr style=\"text-align: right;\">\n",
       "      <th></th>\n",
       "      <th>Cluster</th>\n",
       "      <th>PC2</th>\n",
       "      <th>PC1</th>\n",
       "    </tr>\n",
       "  </thead>\n",
       "  <tbody>\n",
       "    <tr>\n",
       "      <th>Sen. Edward “Ed” Markey [D]</th>\n",
       "      <td>0</td>\n",
       "      <td>1.131463</td>\n",
       "      <td>-2.355431</td>\n",
       "    </tr>\n",
       "    <tr>\n",
       "      <th>Sen. Kamala Harris [D]</th>\n",
       "      <td>0</td>\n",
       "      <td>0.827115</td>\n",
       "      <td>-2.740490</td>\n",
       "    </tr>\n",
       "    <tr>\n",
       "      <th>Sen. Elizabeth Warren [D]</th>\n",
       "      <td>0</td>\n",
       "      <td>1.294015</td>\n",
       "      <td>-2.048216</td>\n",
       "    </tr>\n",
       "    <tr>\n",
       "      <th>Sen. Bernard “Bernie” Sanders [I]</th>\n",
       "      <td>0</td>\n",
       "      <td>0.479713</td>\n",
       "      <td>-2.871568</td>\n",
       "    </tr>\n",
       "  </tbody>\n",
       "</table>\n",
       "</div>"
      ],
      "text/plain": [
       "                                   Cluster       PC2       PC1\n",
       "Sen. Edward “Ed” Markey [D]              0  1.131463 -2.355431\n",
       "Sen. Kamala Harris [D]                   0  0.827115 -2.740490\n",
       "Sen. Elizabeth Warren [D]                0  1.294015 -2.048216\n",
       "Sen. Bernard “Bernie” Sanders [I]        0  0.479713 -2.871568"
      ]
     },
     "execution_count": 26,
     "metadata": {},
     "output_type": "execute_result"
    }
   ],
   "source": [
    "# Cluster 0 = progressive Democrats\n",
    "democrats_small[democrats_small['Cluster'] == 0]"
   ]
  },
  {
   "cell_type": "markdown",
   "metadata": {},
   "source": [
    "The second subgroup appears to pick out the [\"Red State Democrats\"](https://www.politico.com/news/2020/02/05/doug-jones-impeachment-vote-110818)"
   ]
  },
  {
   "cell_type": "code",
   "execution_count": 27,
   "metadata": {},
   "outputs": [
    {
     "data": {
      "text/html": [
       "<div>\n",
       "<style scoped>\n",
       "    .dataframe tbody tr th:only-of-type {\n",
       "        vertical-align: middle;\n",
       "    }\n",
       "\n",
       "    .dataframe tbody tr th {\n",
       "        vertical-align: top;\n",
       "    }\n",
       "\n",
       "    .dataframe thead th {\n",
       "        text-align: right;\n",
       "    }\n",
       "</style>\n",
       "<table border=\"1\" class=\"dataframe\">\n",
       "  <thead>\n",
       "    <tr style=\"text-align: right;\">\n",
       "      <th></th>\n",
       "      <th>Cluster</th>\n",
       "      <th>PC2</th>\n",
       "      <th>PC1</th>\n",
       "    </tr>\n",
       "  </thead>\n",
       "  <tbody>\n",
       "    <tr>\n",
       "      <th>Sen. Doug Jones [D]</th>\n",
       "      <td>3</td>\n",
       "      <td>-1.423344</td>\n",
       "      <td>-1.045414</td>\n",
       "    </tr>\n",
       "    <tr>\n",
       "      <th>Sen. Kyrsten Sinema [D]</th>\n",
       "      <td>3</td>\n",
       "      <td>-1.120581</td>\n",
       "      <td>-1.004681</td>\n",
       "    </tr>\n",
       "    <tr>\n",
       "      <th>Sen. Joe Manchin III [D]</th>\n",
       "      <td>3</td>\n",
       "      <td>-1.318495</td>\n",
       "      <td>-1.330427</td>\n",
       "    </tr>\n",
       "  </tbody>\n",
       "</table>\n",
       "</div>"
      ],
      "text/plain": [
       "                          Cluster       PC2       PC1\n",
       "Sen. Doug Jones [D]             3 -1.423344 -1.045414\n",
       "Sen. Kyrsten Sinema [D]         3 -1.120581 -1.004681\n",
       "Sen. Joe Manchin III [D]        3 -1.318495 -1.330427"
      ]
     },
     "execution_count": 27,
     "metadata": {},
     "output_type": "execute_result"
    }
   ],
   "source": [
    "# Cluster 3 = Red State Democrats\n",
    "democrats_small[democrats_small['Cluster'] == 3]"
   ]
  },
  {
   "cell_type": "code",
   "execution_count": 28,
   "metadata": {},
   "outputs": [],
   "source": [
    "# Insert cluster into main data frame\n",
    "democrats.insert(0, 'Cluster', cluster)"
   ]
  },
  {
   "cell_type": "markdown",
   "metadata": {},
   "source": [
    "Okay, now let's try the same thing for Republican senators."
   ]
  },
  {
   "cell_type": "code",
   "execution_count": 29,
   "metadata": {},
   "outputs": [],
   "source": [
    "# Filter by Republicans\n",
    "republicans = data[data['Party'] == 'R']"
   ]
  },
  {
   "cell_type": "markdown",
   "metadata": {},
   "source": [
    "The most divisive issue within the Republican Party in 2020 was the Great American Outdoors Act, which aimed to provide funding for outdoors-related agencies."
   ]
  },
  {
   "cell_type": "code",
   "execution_count": 30,
   "metadata": {},
   "outputs": [
    {
     "data": {
      "text/plain": [
       "H.R. 1957: Great American Outdoors Act                                                                                                                                                                                                   0.503975\n",
       "Motion to Invoke Cloture: H.R. 1957                                                                                                                                                                                                      0.500363\n",
       "S.Amdt. 1617 (Gardner) to H.R. 1957: In the nature of a substitute.                                                                                                                                                                      0.498547\n",
       "S.Amdt. 1583 (Wyden) to H.R. 6172: To remove internet website browsing information and search history from scope of authority to access certain business records for foreign intelligence and international terrorism investigations.    0.494344\n",
       "On the Nomination PN1314: John Charles Hinderaker                                                                                                                                                                                        0.494344\n",
       "dtype: float64"
      ]
     },
     "execution_count": 30,
     "metadata": {},
     "output_type": "execute_result"
    }
   ],
   "source": [
    "# Most divisive issues within Republican Party\n",
    "republicans.std().sort_values(ascending = False)[0:5]"
   ]
  },
  {
   "cell_type": "code",
   "execution_count": 31,
   "metadata": {},
   "outputs": [
    {
     "data": {
      "text/plain": [
       "(53, 19)"
      ]
     },
     "execution_count": 31,
     "metadata": {},
     "output_type": "execute_result"
    }
   ],
   "source": [
    "# Principal component analysis\n",
    "from sklearn.decomposition import PCA\n",
    "pca = PCA(n_components = 0.95)\n",
    "pca.fit(republicans.iloc[:,1:].T)\n",
    "pca_data = pd.DataFrame(pca.components_)\n",
    "pca_data = pca_data.T\n",
    "pca_data.shape"
   ]
  },
  {
   "cell_type": "markdown",
   "metadata": {},
   "source": [
    "As with Democratic senators, there appears to be a \"mainstream\" cluster and two distant subgroups."
   ]
  },
  {
   "cell_type": "code",
   "execution_count": 32,
   "metadata": {},
   "outputs": [
    {
     "data": {
      "text/plain": [
       "<AxesSubplot:xlabel='0', ylabel='1'>"
      ]
     },
     "execution_count": 32,
     "metadata": {},
     "output_type": "execute_result"
    },
    {
     "data": {
      "image/png": "[encoded data removed]",
      "text/plain": [
       "<Figure size 576x396 with 1 Axes>"
      ]
     },
     "metadata": {},
     "output_type": "display_data"
    }
   ],
   "source": [
    "# Scatterplot of first two PCs\n",
    "import seaborn as sns\n",
    "sns.scatterplot(x = pca_data[0], y = pca_data[1], palette = 'bright')"
   ]
  },
  {
   "cell_type": "code",
   "execution_count": 33,
   "metadata": {},
   "outputs": [
    {
     "name": "stdout",
     "output_type": "stream",
     "text": [
      "70.0870505257263 % variance explained by PC1\n",
      "6.577542454372991 % variance explained by PC2\n"
     ]
    }
   ],
   "source": [
    "print(pca.explained_variance_ratio_[0]*100, '% variance explained by PC1')\n",
    "print(pca.explained_variance_ratio_[1]*100, '% variance explained by PC2')"
   ]
  },
  {
   "cell_type": "code",
   "execution_count": 34,
   "metadata": {},
   "outputs": [],
   "source": [
    "# Insert PCs\n",
    "republicans.insert(0, 'PC1', pca_data[0].values)\n",
    "republicans.insert(0, 'PC2', pca_data[1].values)"
   ]
  },
  {
   "cell_type": "code",
   "execution_count": 35,
   "metadata": {},
   "outputs": [],
   "source": [
    "# Scale PCs before clustering\n",
    "from sklearn.preprocessing import StandardScaler\n",
    "\n",
    "republicans_small = republicans.iloc[:,:2]\n",
    "columns = republicans_small.columns\n",
    "index = republicans_small.index\n",
    "scaler = StandardScaler()\n",
    "republicans_small = scaler.fit_transform(republicans_small)\n",
    "republicans_small = pd.DataFrame(republicans_small)\n",
    "republicans_small.columns = columns\n",
    "republicans_small.index = index"
   ]
  },
  {
   "cell_type": "code",
   "execution_count": 36,
   "metadata": {},
   "outputs": [
    {
     "data": {
      "image/png": "[encoded data removed]",
      "text/plain": [
       "<Figure size 576x396 with 1 Axes>"
      ]
     },
     "metadata": {},
     "output_type": "display_data"
    }
   ],
   "source": [
    "# Find optimal number of clusters for K-Means\n",
    "from sklearn.cluster import KMeans\n",
    "from yellowbrick.cluster import KElbowVisualizer\n",
    "from warnings import simplefilter\n",
    "simplefilter(action = 'ignore', category = FutureWarning)\n",
    "\n",
    "model = KMeans(random_state = 20201124)\n",
    "visualizer = KElbowVisualizer(model, k = (2,10), timings = False)\n",
    "visualizer.fit(republicans_small[['PC1', 'PC2']])\n",
    "elbow_visualizer = visualizer.show()"
   ]
  },
  {
   "cell_type": "code",
   "execution_count": 37,
   "metadata": {},
   "outputs": [],
   "source": [
    "# K-means clustering\n",
    "k_means = KMeans(n_clusters = 4, random_state = 20201124)\n",
    "k_means.fit(republicans_small[['PC1', 'PC2']])\n",
    "cluster = k_means.predict(republicans_small[['PC1', 'PC2']])\n",
    "republicans_small.insert(0, 'Cluster', cluster)"
   ]
  },
  {
   "cell_type": "markdown",
   "metadata": {},
   "source": [
    "k = 4 nicely picks out the two subgroups and divides the mainstream cluster into two halves."
   ]
  },
  {
   "cell_type": "code",
   "execution_count": 38,
   "metadata": {},
   "outputs": [
    {
     "data": {
      "text/plain": [
       "<AxesSubplot:xlabel='PC1', ylabel='PC2'>"
      ]
     },
     "execution_count": 38,
     "metadata": {},
     "output_type": "execute_result"
    },
    {
     "data": {
      "image/png": "[encoded data removed]",
      "text/plain": [
       "<Figure size 576x396 with 1 Axes>"
      ]
     },
     "metadata": {},
     "output_type": "display_data"
    }
   ],
   "source": [
    "# Scatterplot of first two PCs with cluster as label\n",
    "import seaborn as sns\n",
    "sns.scatterplot(x = republicans_small['PC1'], y = republicans_small['PC2'], \n",
    "                hue = republicans_small['Cluster'].values, palette = 'bright')"
   ]
  },
  {
   "cell_type": "markdown",
   "metadata": {},
   "source": [
    "The first subgroup appears to pick out [the more liberal Republicans who took a firm stance against Trump](https://www.politico.com/news/2020/01/31/alexander-murkowski-collins-romney-impeachment-trial-110138)"
   ]
  },
  {
   "cell_type": "code",
   "execution_count": 39,
   "metadata": {},
   "outputs": [
    {
     "data": {
      "text/html": [
       "<div>\n",
       "<style scoped>\n",
       "    .dataframe tbody tr th:only-of-type {\n",
       "        vertical-align: middle;\n",
       "    }\n",
       "\n",
       "    .dataframe tbody tr th {\n",
       "        vertical-align: top;\n",
       "    }\n",
       "\n",
       "    .dataframe thead th {\n",
       "        text-align: right;\n",
       "    }\n",
       "</style>\n",
       "<table border=\"1\" class=\"dataframe\">\n",
       "  <thead>\n",
       "    <tr style=\"text-align: right;\">\n",
       "      <th></th>\n",
       "      <th>Cluster</th>\n",
       "      <th>PC2</th>\n",
       "      <th>PC1</th>\n",
       "    </tr>\n",
       "  </thead>\n",
       "  <tbody>\n",
       "    <tr>\n",
       "      <th>Sen. Susan Collins [R]</th>\n",
       "      <td>2</td>\n",
       "      <td>0.820641</td>\n",
       "      <td>3.457097</td>\n",
       "    </tr>\n",
       "    <tr>\n",
       "      <th>Sen. Lamar Alexander [R]</th>\n",
       "      <td>2</td>\n",
       "      <td>0.907294</td>\n",
       "      <td>2.454681</td>\n",
       "    </tr>\n",
       "    <tr>\n",
       "      <th>Sen. Lisa Murkowski [R]</th>\n",
       "      <td>2</td>\n",
       "      <td>0.333853</td>\n",
       "      <td>2.964830</td>\n",
       "    </tr>\n",
       "  </tbody>\n",
       "</table>\n",
       "</div>"
      ],
      "text/plain": [
       "                          Cluster       PC2       PC1\n",
       "Sen. Susan Collins [R]          2  0.820641  3.457097\n",
       "Sen. Lamar Alexander [R]        2  0.907294  2.454681\n",
       "Sen. Lisa Murkowski [R]         2  0.333853  2.964830"
      ]
     },
     "execution_count": 39,
     "metadata": {},
     "output_type": "execute_result"
    }
   ],
   "source": [
    "# Cluster 2 = liberal Republicans\n",
    "republicans_small[republicans_small['Cluster'] == 2]"
   ]
  },
  {
   "cell_type": "markdown",
   "metadata": {},
   "source": [
    "The other subgroup appears to pick out the [radically conservative Tea Party members](https://www.politico.com/story/2011/01/4th-senator-joins-tea-party-caucus-048302)"
   ]
  },
  {
   "cell_type": "code",
   "execution_count": 40,
   "metadata": {},
   "outputs": [
    {
     "data": {
      "text/html": [
       "<div>\n",
       "<style scoped>\n",
       "    .dataframe tbody tr th:only-of-type {\n",
       "        vertical-align: middle;\n",
       "    }\n",
       "\n",
       "    .dataframe tbody tr th {\n",
       "        vertical-align: top;\n",
       "    }\n",
       "\n",
       "    .dataframe thead th {\n",
       "        text-align: right;\n",
       "    }\n",
       "</style>\n",
       "<table border=\"1\" class=\"dataframe\">\n",
       "  <thead>\n",
       "    <tr style=\"text-align: right;\">\n",
       "      <th></th>\n",
       "      <th>Cluster</th>\n",
       "      <th>PC2</th>\n",
       "      <th>PC1</th>\n",
       "    </tr>\n",
       "  </thead>\n",
       "  <tbody>\n",
       "    <tr>\n",
       "      <th>Sen. Jerry Moran [R]</th>\n",
       "      <td>3</td>\n",
       "      <td>-1.331505</td>\n",
       "      <td>0.867263</td>\n",
       "    </tr>\n",
       "    <tr>\n",
       "      <th>Sen. Mike Lee [R]</th>\n",
       "      <td>3</td>\n",
       "      <td>-2.833869</td>\n",
       "      <td>1.035732</td>\n",
       "    </tr>\n",
       "    <tr>\n",
       "      <th>Sen. Rand Paul [R]</th>\n",
       "      <td>3</td>\n",
       "      <td>-2.830147</td>\n",
       "      <td>1.938044</td>\n",
       "    </tr>\n",
       "  </tbody>\n",
       "</table>\n",
       "</div>"
      ],
      "text/plain": [
       "                      Cluster       PC2       PC1\n",
       "Sen. Jerry Moran [R]        3 -1.331505  0.867263\n",
       "Sen. Mike Lee [R]           3 -2.833869  1.035732\n",
       "Sen. Rand Paul [R]          3 -2.830147  1.938044"
      ]
     },
     "execution_count": 40,
     "metadata": {},
     "output_type": "execute_result"
    }
   ],
   "source": [
    "# Cluster 3 = Tea Party Republicans\n",
    "republicans_small[republicans_small['Cluster'] == 3]"
   ]
  },
  {
   "cell_type": "code",
   "execution_count": 41,
   "metadata": {},
   "outputs": [],
   "source": [
    "# Insert cluster into main data frame\n",
    "republicans.insert(0, 'Cluster', cluster)"
   ]
  },
  {
   "cell_type": "markdown",
   "metadata": {},
   "source": [
    "### Limitations\n",
    "One major limitation is that, as much as I tried, I could not find a meaningful interpretation of what PC1 and PC2 represent for both the Democratic and Republican parties. While it does appear to provide separation and aid in picking out the more fringe senators (e.g. progressives, Tea Partiers, etc.), it is very difficult to arrive at a sound conclusion as to what it actually represents. This is in comparison to PC1 for the Senate as a whole, which very obviously represents Democrats vs. Republicans.\n",
    "### Future directions\n",
    "In this project, I focus on the current year 2020, but in the future, it would be interesting to run analyses on multiple years and do a comparative analysis with regards to the degree of polarization, the most polarizing issues, the cluster structure, etc.\n",
    "### Conclusion\n",
    "I saw [this Tweet](https://twitter.com/seanjtaylor/status/1331426161356808192) today, and found it to encapsulate my motivation for pursuing this project: \"Perhaps my most controversial opinion: In machine learning education, the focus on supervised learning and particularly on classification problems gives people a totally misguided idea about how to use data to solve real problems.\" I wanted to avoid the mostly banal Kaggle/UCI datasets and build a pipeline to gather my own data. Congressional data does not lend itself to sophisticated machine learning classification/regression models, but I believe that by applying PCA + clustering to it, I learned a lot about the structure of our political system - data-driven knowledge that could not be attained just by reading the news. This pipeline could be used to gather data on any Congress, all the way back to the first Congress of 1789, and could provide the basis for very interesting quantitative comparisons of how American politics has evolved over time."
   ]
  }
 ],
 "metadata": {
  "kernelspec": {
   "display_name": "Python 3",
   "language": "python",
   "name": "python3"
  },
  "language_info": {
   "codemirror_mode": {
    "name": "ipython",
    "version": 3
   },
   "file_extension": ".py",
   "mimetype": "text/x-python",
   "name": "python",
   "nbconvert_exporter": "python",
   "pygments_lexer": "ipython3",
   "version": "3.8.5"
  }
 },
 "nbformat": 4,
 "nbformat_minor": 4
}
